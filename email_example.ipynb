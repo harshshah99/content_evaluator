{
 "cells": [
  {
   "cell_type": "code",
   "execution_count": null,
   "metadata": {},
   "outputs": [],
   "source": [
    "import os\n",
    "\n",
    "os.environ['OPENAI_API_KEY'] = 'your-openai-key-here'"
   ]
  },
  {
   "cell_type": "code",
   "execution_count": 5,
   "metadata": {},
   "outputs": [
    {
     "name": "stdout",
     "output_type": "stream",
     "text": [
      "Requirement already satisfied: deepeval in /Users/harshshah/miniconda3/envs/eval/lib/python3.12/site-packages (0.21.48)\n",
      "Requirement already satisfied: requests in /Users/harshshah/miniconda3/envs/eval/lib/python3.12/site-packages (from deepeval) (2.32.2)\n",
      "Requirement already satisfied: tqdm in /Users/harshshah/miniconda3/envs/eval/lib/python3.12/site-packages (from deepeval) (4.66.4)\n",
      "Requirement already satisfied: pytest in /Users/harshshah/miniconda3/envs/eval/lib/python3.12/site-packages (from deepeval) (8.2.1)\n",
      "Requirement already satisfied: tabulate in /Users/harshshah/miniconda3/envs/eval/lib/python3.12/site-packages (from deepeval) (0.9.0)\n",
      "Requirement already satisfied: typer in /Users/harshshah/miniconda3/envs/eval/lib/python3.12/site-packages (from deepeval) (0.12.3)\n",
      "Requirement already satisfied: rich in /Users/harshshah/miniconda3/envs/eval/lib/python3.12/site-packages (from deepeval) (13.7.1)\n",
      "Requirement already satisfied: protobuf==4.25.1 in /Users/harshshah/miniconda3/envs/eval/lib/python3.12/site-packages (from deepeval) (4.25.1)\n",
      "Requirement already satisfied: pydantic in /Users/harshshah/miniconda3/envs/eval/lib/python3.12/site-packages (from deepeval) (2.7.1)\n",
      "Requirement already satisfied: sentry-sdk in /Users/harshshah/miniconda3/envs/eval/lib/python3.12/site-packages (from deepeval) (2.3.1)\n",
      "Requirement already satisfied: pytest-repeat in /Users/harshshah/miniconda3/envs/eval/lib/python3.12/site-packages (from deepeval) (0.9.3)\n",
      "Requirement already satisfied: pytest-xdist in /Users/harshshah/miniconda3/envs/eval/lib/python3.12/site-packages (from deepeval) (3.6.1)\n",
      "Requirement already satisfied: portalocker in /Users/harshshah/miniconda3/envs/eval/lib/python3.12/site-packages (from deepeval) (2.8.2)\n",
      "Requirement already satisfied: langchain in /Users/harshshah/miniconda3/envs/eval/lib/python3.12/site-packages (from deepeval) (0.2.1)\n",
      "Requirement already satisfied: langchain-core in /Users/harshshah/miniconda3/envs/eval/lib/python3.12/site-packages (from deepeval) (0.2.1)\n",
      "Requirement already satisfied: langchain-openai in /Users/harshshah/miniconda3/envs/eval/lib/python3.12/site-packages (from deepeval) (0.1.7)\n",
      "Requirement already satisfied: ragas in /Users/harshshah/miniconda3/envs/eval/lib/python3.12/site-packages (from deepeval) (0.1.8)\n",
      "Requirement already satisfied: docx2txt~=0.8 in /Users/harshshah/miniconda3/envs/eval/lib/python3.12/site-packages (from deepeval) (0.8)\n",
      "Requirement already satisfied: importlib-metadata>=6.0.2 in /Users/harshshah/miniconda3/envs/eval/lib/python3.12/site-packages (from deepeval) (7.0.0)\n",
      "Requirement already satisfied: tenacity~=8.2.3 in /Users/harshshah/miniconda3/envs/eval/lib/python3.12/site-packages (from deepeval) (8.2.3)\n",
      "Requirement already satisfied: opentelemetry-api<2.0.0,>=1.14.0 in /Users/harshshah/miniconda3/envs/eval/lib/python3.12/site-packages (from deepeval) (1.24.0)\n",
      "Requirement already satisfied: opentelemetry-sdk<2.0.0,>=1.14.0 in /Users/harshshah/miniconda3/envs/eval/lib/python3.12/site-packages (from deepeval) (1.24.0)\n",
      "Requirement already satisfied: opentelemetry-exporter-otlp-proto-grpc<2.0.0,>=1.24.0 in /Users/harshshah/miniconda3/envs/eval/lib/python3.12/site-packages (from deepeval) (1.24.0)\n",
      "Requirement already satisfied: zipp>=0.5 in /Users/harshshah/miniconda3/envs/eval/lib/python3.12/site-packages (from importlib-metadata>=6.0.2->deepeval) (3.19.0)\n",
      "Requirement already satisfied: deprecated>=1.2.6 in /Users/harshshah/miniconda3/envs/eval/lib/python3.12/site-packages (from opentelemetry-api<2.0.0,>=1.14.0->deepeval) (1.2.14)\n",
      "Requirement already satisfied: googleapis-common-protos~=1.52 in /Users/harshshah/miniconda3/envs/eval/lib/python3.12/site-packages (from opentelemetry-exporter-otlp-proto-grpc<2.0.0,>=1.24.0->deepeval) (1.63.0)\n",
      "Requirement already satisfied: grpcio<2.0.0,>=1.0.0 in /Users/harshshah/miniconda3/envs/eval/lib/python3.12/site-packages (from opentelemetry-exporter-otlp-proto-grpc<2.0.0,>=1.24.0->deepeval) (1.64.0)\n",
      "Requirement already satisfied: opentelemetry-exporter-otlp-proto-common==1.24.0 in /Users/harshshah/miniconda3/envs/eval/lib/python3.12/site-packages (from opentelemetry-exporter-otlp-proto-grpc<2.0.0,>=1.24.0->deepeval) (1.24.0)\n",
      "Requirement already satisfied: opentelemetry-proto==1.24.0 in /Users/harshshah/miniconda3/envs/eval/lib/python3.12/site-packages (from opentelemetry-exporter-otlp-proto-grpc<2.0.0,>=1.24.0->deepeval) (1.24.0)\n",
      "Requirement already satisfied: opentelemetry-semantic-conventions==0.45b0 in /Users/harshshah/miniconda3/envs/eval/lib/python3.12/site-packages (from opentelemetry-sdk<2.0.0,>=1.14.0->deepeval) (0.45b0)\n",
      "Requirement already satisfied: typing-extensions>=3.7.4 in /Users/harshshah/miniconda3/envs/eval/lib/python3.12/site-packages (from opentelemetry-sdk<2.0.0,>=1.14.0->deepeval) (4.12.0)\n",
      "Requirement already satisfied: PyYAML>=5.3 in /Users/harshshah/miniconda3/envs/eval/lib/python3.12/site-packages (from langchain->deepeval) (6.0.1)\n",
      "Requirement already satisfied: SQLAlchemy<3,>=1.4 in /Users/harshshah/miniconda3/envs/eval/lib/python3.12/site-packages (from langchain->deepeval) (2.0.30)\n",
      "Requirement already satisfied: aiohttp<4.0.0,>=3.8.3 in /Users/harshshah/miniconda3/envs/eval/lib/python3.12/site-packages (from langchain->deepeval) (3.9.5)\n",
      "Requirement already satisfied: langchain-text-splitters<0.3.0,>=0.2.0 in /Users/harshshah/miniconda3/envs/eval/lib/python3.12/site-packages (from langchain->deepeval) (0.2.0)\n",
      "Requirement already satisfied: langsmith<0.2.0,>=0.1.17 in /Users/harshshah/miniconda3/envs/eval/lib/python3.12/site-packages (from langchain->deepeval) (0.1.63)\n",
      "Requirement already satisfied: numpy<2,>=1 in /Users/harshshah/miniconda3/envs/eval/lib/python3.12/site-packages (from langchain->deepeval) (1.26.4)\n",
      "Requirement already satisfied: jsonpatch<2.0,>=1.33 in /Users/harshshah/miniconda3/envs/eval/lib/python3.12/site-packages (from langchain-core->deepeval) (1.33)\n",
      "Requirement already satisfied: packaging<24.0,>=23.2 in /Users/harshshah/miniconda3/envs/eval/lib/python3.12/site-packages (from langchain-core->deepeval) (23.2)\n",
      "Requirement already satisfied: annotated-types>=0.4.0 in /Users/harshshah/miniconda3/envs/eval/lib/python3.12/site-packages (from pydantic->deepeval) (0.7.0)\n",
      "Requirement already satisfied: pydantic-core==2.18.2 in /Users/harshshah/miniconda3/envs/eval/lib/python3.12/site-packages (from pydantic->deepeval) (2.18.2)\n",
      "Requirement already satisfied: charset-normalizer<4,>=2 in /Users/harshshah/miniconda3/envs/eval/lib/python3.12/site-packages (from requests->deepeval) (3.3.2)\n",
      "Requirement already satisfied: idna<4,>=2.5 in /Users/harshshah/miniconda3/envs/eval/lib/python3.12/site-packages (from requests->deepeval) (3.7)\n",
      "Requirement already satisfied: urllib3<3,>=1.21.1 in /Users/harshshah/miniconda3/envs/eval/lib/python3.12/site-packages (from requests->deepeval) (2.2.1)\n",
      "Requirement already satisfied: certifi>=2017.4.17 in /Users/harshshah/miniconda3/envs/eval/lib/python3.12/site-packages (from requests->deepeval) (2024.2.2)\n",
      "Requirement already satisfied: openai<2.0.0,>=1.24.0 in /Users/harshshah/miniconda3/envs/eval/lib/python3.12/site-packages (from langchain-openai->deepeval) (1.30.3)\n",
      "Requirement already satisfied: tiktoken<1,>=0.7 in /Users/harshshah/miniconda3/envs/eval/lib/python3.12/site-packages (from langchain-openai->deepeval) (0.7.0)\n",
      "Requirement already satisfied: iniconfig in /Users/harshshah/miniconda3/envs/eval/lib/python3.12/site-packages (from pytest->deepeval) (2.0.0)\n",
      "Requirement already satisfied: pluggy<2.0,>=1.5 in /Users/harshshah/miniconda3/envs/eval/lib/python3.12/site-packages (from pytest->deepeval) (1.5.0)\n",
      "Requirement already satisfied: execnet>=2.1 in /Users/harshshah/miniconda3/envs/eval/lib/python3.12/site-packages (from pytest-xdist->deepeval) (2.1.1)\n",
      "Requirement already satisfied: datasets in /Users/harshshah/miniconda3/envs/eval/lib/python3.12/site-packages (from ragas->deepeval) (2.19.1)\n",
      "Requirement already satisfied: langchain-community in /Users/harshshah/miniconda3/envs/eval/lib/python3.12/site-packages (from ragas->deepeval) (0.2.1)\n",
      "Requirement already satisfied: pysbd>=0.3.4 in /Users/harshshah/miniconda3/envs/eval/lib/python3.12/site-packages (from ragas->deepeval) (0.3.4)\n",
      "Requirement already satisfied: nest-asyncio in /Users/harshshah/miniconda3/envs/eval/lib/python3.12/site-packages (from ragas->deepeval) (1.6.0)\n",
      "Requirement already satisfied: appdirs in /Users/harshshah/miniconda3/envs/eval/lib/python3.12/site-packages (from ragas->deepeval) (1.4.4)\n",
      "Requirement already satisfied: markdown-it-py>=2.2.0 in /Users/harshshah/miniconda3/envs/eval/lib/python3.12/site-packages (from rich->deepeval) (3.0.0)\n",
      "Requirement already satisfied: pygments<3.0.0,>=2.13.0 in /Users/harshshah/miniconda3/envs/eval/lib/python3.12/site-packages (from rich->deepeval) (2.15.1)\n",
      "Requirement already satisfied: click>=8.0.0 in /Users/harshshah/miniconda3/envs/eval/lib/python3.12/site-packages (from typer->deepeval) (8.1.7)\n",
      "Requirement already satisfied: shellingham>=1.3.0 in /Users/harshshah/miniconda3/envs/eval/lib/python3.12/site-packages (from typer->deepeval) (1.5.4)\n",
      "Requirement already satisfied: aiosignal>=1.1.2 in /Users/harshshah/miniconda3/envs/eval/lib/python3.12/site-packages (from aiohttp<4.0.0,>=3.8.3->langchain->deepeval) (1.3.1)\n",
      "Requirement already satisfied: attrs>=17.3.0 in /Users/harshshah/miniconda3/envs/eval/lib/python3.12/site-packages (from aiohttp<4.0.0,>=3.8.3->langchain->deepeval) (23.2.0)\n",
      "Requirement already satisfied: frozenlist>=1.1.1 in /Users/harshshah/miniconda3/envs/eval/lib/python3.12/site-packages (from aiohttp<4.0.0,>=3.8.3->langchain->deepeval) (1.4.1)\n",
      "Requirement already satisfied: multidict<7.0,>=4.5 in /Users/harshshah/miniconda3/envs/eval/lib/python3.12/site-packages (from aiohttp<4.0.0,>=3.8.3->langchain->deepeval) (6.0.5)\n",
      "Requirement already satisfied: yarl<2.0,>=1.0 in /Users/harshshah/miniconda3/envs/eval/lib/python3.12/site-packages (from aiohttp<4.0.0,>=3.8.3->langchain->deepeval) (1.9.4)\n",
      "Requirement already satisfied: wrapt<2,>=1.10 in /Users/harshshah/miniconda3/envs/eval/lib/python3.12/site-packages (from deprecated>=1.2.6->opentelemetry-api<2.0.0,>=1.14.0->deepeval) (1.16.0)\n",
      "Requirement already satisfied: jsonpointer>=1.9 in /Users/harshshah/miniconda3/envs/eval/lib/python3.12/site-packages (from jsonpatch<2.0,>=1.33->langchain-core->deepeval) (2.4)\n",
      "Requirement already satisfied: orjson<4.0.0,>=3.9.14 in /Users/harshshah/miniconda3/envs/eval/lib/python3.12/site-packages (from langsmith<0.2.0,>=0.1.17->langchain->deepeval) (3.10.3)\n",
      "Requirement already satisfied: mdurl~=0.1 in /Users/harshshah/miniconda3/envs/eval/lib/python3.12/site-packages (from markdown-it-py>=2.2.0->rich->deepeval) (0.1.2)\n",
      "Requirement already satisfied: anyio<5,>=3.5.0 in /Users/harshshah/miniconda3/envs/eval/lib/python3.12/site-packages (from openai<2.0.0,>=1.24.0->langchain-openai->deepeval) (4.4.0)\n",
      "Requirement already satisfied: distro<2,>=1.7.0 in /Users/harshshah/miniconda3/envs/eval/lib/python3.12/site-packages (from openai<2.0.0,>=1.24.0->langchain-openai->deepeval) (1.9.0)\n",
      "Requirement already satisfied: httpx<1,>=0.23.0 in /Users/harshshah/miniconda3/envs/eval/lib/python3.12/site-packages (from openai<2.0.0,>=1.24.0->langchain-openai->deepeval) (0.27.0)\n",
      "Requirement already satisfied: sniffio in /Users/harshshah/miniconda3/envs/eval/lib/python3.12/site-packages (from openai<2.0.0,>=1.24.0->langchain-openai->deepeval) (1.3.1)\n",
      "Requirement already satisfied: regex>=2022.1.18 in /Users/harshshah/miniconda3/envs/eval/lib/python3.12/site-packages (from tiktoken<1,>=0.7->langchain-openai->deepeval) (2024.5.15)\n",
      "Requirement already satisfied: filelock in /Users/harshshah/miniconda3/envs/eval/lib/python3.12/site-packages (from datasets->ragas->deepeval) (3.14.0)\n",
      "Requirement already satisfied: pyarrow>=12.0.0 in /Users/harshshah/miniconda3/envs/eval/lib/python3.12/site-packages (from datasets->ragas->deepeval) (16.1.0)\n",
      "Requirement already satisfied: pyarrow-hotfix in /Users/harshshah/miniconda3/envs/eval/lib/python3.12/site-packages (from datasets->ragas->deepeval) (0.6)\n",
      "Requirement already satisfied: dill<0.3.9,>=0.3.0 in /Users/harshshah/miniconda3/envs/eval/lib/python3.12/site-packages (from datasets->ragas->deepeval) (0.3.8)\n",
      "Requirement already satisfied: pandas in /Users/harshshah/miniconda3/envs/eval/lib/python3.12/site-packages (from datasets->ragas->deepeval) (2.2.2)\n",
      "Requirement already satisfied: xxhash in /Users/harshshah/miniconda3/envs/eval/lib/python3.12/site-packages (from datasets->ragas->deepeval) (3.4.1)\n",
      "Requirement already satisfied: multiprocess in /Users/harshshah/miniconda3/envs/eval/lib/python3.12/site-packages (from datasets->ragas->deepeval) (0.70.16)\n",
      "Requirement already satisfied: fsspec<=2024.3.1,>=2023.1.0 in /Users/harshshah/miniconda3/envs/eval/lib/python3.12/site-packages (from fsspec[http]<=2024.3.1,>=2023.1.0->datasets->ragas->deepeval) (2024.3.1)\n",
      "Requirement already satisfied: huggingface-hub>=0.21.2 in /Users/harshshah/miniconda3/envs/eval/lib/python3.12/site-packages (from datasets->ragas->deepeval) (0.23.2)\n",
      "Requirement already satisfied: dataclasses-json<0.7,>=0.5.7 in /Users/harshshah/miniconda3/envs/eval/lib/python3.12/site-packages (from langchain-community->ragas->deepeval) (0.6.6)\n",
      "Requirement already satisfied: marshmallow<4.0.0,>=3.18.0 in /Users/harshshah/miniconda3/envs/eval/lib/python3.12/site-packages (from dataclasses-json<0.7,>=0.5.7->langchain-community->ragas->deepeval) (3.21.2)\n",
      "Requirement already satisfied: typing-inspect<1,>=0.4.0 in /Users/harshshah/miniconda3/envs/eval/lib/python3.12/site-packages (from dataclasses-json<0.7,>=0.5.7->langchain-community->ragas->deepeval) (0.9.0)\n",
      "Requirement already satisfied: httpcore==1.* in /Users/harshshah/miniconda3/envs/eval/lib/python3.12/site-packages (from httpx<1,>=0.23.0->openai<2.0.0,>=1.24.0->langchain-openai->deepeval) (1.0.5)\n",
      "Requirement already satisfied: h11<0.15,>=0.13 in /Users/harshshah/miniconda3/envs/eval/lib/python3.12/site-packages (from httpcore==1.*->httpx<1,>=0.23.0->openai<2.0.0,>=1.24.0->langchain-openai->deepeval) (0.14.0)\n",
      "Requirement already satisfied: python-dateutil>=2.8.2 in /Users/harshshah/miniconda3/envs/eval/lib/python3.12/site-packages (from pandas->datasets->ragas->deepeval) (2.9.0.post0)\n",
      "Requirement already satisfied: pytz>=2020.1 in /Users/harshshah/miniconda3/envs/eval/lib/python3.12/site-packages (from pandas->datasets->ragas->deepeval) (2024.1)\n",
      "Requirement already satisfied: tzdata>=2022.7 in /Users/harshshah/miniconda3/envs/eval/lib/python3.12/site-packages (from pandas->datasets->ragas->deepeval) (2024.1)\n",
      "Requirement already satisfied: six>=1.5 in /Users/harshshah/miniconda3/envs/eval/lib/python3.12/site-packages (from python-dateutil>=2.8.2->pandas->datasets->ragas->deepeval) (1.16.0)\n",
      "Requirement already satisfied: mypy-extensions>=0.3.0 in /Users/harshshah/miniconda3/envs/eval/lib/python3.12/site-packages (from typing-inspect<1,>=0.4.0->dataclasses-json<0.7,>=0.5.7->langchain-community->ragas->deepeval) (1.0.0)\n",
      "Requirement already satisfied: nltk in /Users/harshshah/miniconda3/envs/eval/lib/python3.12/site-packages (3.8.1)\n",
      "Requirement already satisfied: click in /Users/harshshah/miniconda3/envs/eval/lib/python3.12/site-packages (from nltk) (8.1.7)\n",
      "Requirement already satisfied: joblib in /Users/harshshah/miniconda3/envs/eval/lib/python3.12/site-packages (from nltk) (1.4.2)\n",
      "Requirement already satisfied: regex>=2021.8.3 in /Users/harshshah/miniconda3/envs/eval/lib/python3.12/site-packages (from nltk) (2024.5.15)\n",
      "Requirement already satisfied: tqdm in /Users/harshshah/miniconda3/envs/eval/lib/python3.12/site-packages (from nltk) (4.66.4)\n",
      "Requirement already satisfied: textstat in /Users/harshshah/miniconda3/envs/eval/lib/python3.12/site-packages (0.7.3)\n",
      "Requirement already satisfied: pyphen in /Users/harshshah/miniconda3/envs/eval/lib/python3.12/site-packages (from textstat) (0.15.0)\n"
     ]
    },
    {
     "name": "stderr",
     "output_type": "stream",
     "text": [
      "[nltk_data] Downloading package vader_lexicon to\n",
      "[nltk_data]     /Users/harshshah/nltk_data...\n",
      "[nltk_data]   Package vader_lexicon is already up-to-date!\n",
      "[nltk_data] Downloading package punkt to /Users/harshshah/nltk_data...\n",
      "[nltk_data]   Package punkt is already up-to-date!\n"
     ]
    },
    {
     "data": {
      "text/plain": [
       "True"
      ]
     },
     "execution_count": 5,
     "metadata": {},
     "output_type": "execute_result"
    }
   ],
   "source": [
    "!pip install -U deepeval\n",
    "!pip install nltk\n",
    "!pip install textstat\n",
    "\n",
    "import nltk  \n",
    "nltk.download('vader_lexicon')\n",
    "nltk.download('punkt')"
   ]
  },
  {
   "cell_type": "code",
   "execution_count": 3,
   "metadata": {},
   "outputs": [],
   "source": [
    "reference_details = \"\"\"Receiver Details:  \n",
    "Name : Jack  \n",
    "Position : CEO  \n",
    "Company : Startup AI Innovations  \n",
    "Email : jack@aiinnovations.com  \n",
    "Website: www.aiinnovations.com  \n",
    "Location: San Francisco, CA, USA  \n",
    "Industry: Large Language Models (LLM) and Natural Language Processing (NLP)  \n",
    "   \n",
    "Company Details:  \n",
    "Name: Startup AI Innovations  \n",
    "CEO: Jack  \n",
    "Website: www.aiinnovations.com  \n",
    "Email: info@aiinnovations.com  \n",
    "Location: San Francisco, CA, USA  \n",
    "Industry: Large Language Models (LLM) and Natural Language Processing (NLP)  \n",
    "   \n",
    "Startup AI Innovations is a cutting-edge technology startup specializing in the development and application of Large Language Models (LLM) and Natural Language Processing (NLP). Their goal is to leverage these advanced technologies to create innovative solutions for a variety of sectors, including healthcare, finance, and e-commerce.  \n",
    "   \n",
    "Products/Technologies:  \n",
    "   \n",
    "1. AI Insight: A predictive analytics tool powered by LLM that provides businesses with actionable insights, enabling them to make data-driven decisions.  \n",
    "   \n",
    "2. NLP Chat: An advanced chatbot solution that uses NLP to provide a seamless and interactive customer service experience.  \n",
    "   \n",
    "3. TextGen: A sophisticated text generation tool that utilizes LLM to create high-quality, human-like text for a multitude of applications.  \n",
    "   \n",
    "4. Sentiment Analyzer: An NLP-based tool that accurately assesses customer sentiment based on social media posts, reviews, and other forms of user-generated content.  \n",
    "   \n",
    "5. LanguageTrans: A real-time translation tool that leverages LLM to provide fast and accurate translations for a wide range of languages.   \n",
    "  \n",
    "Startup AI Innovations is dedicated to pushing the boundaries of what is possible with LLM and NLP, and their suite of products reflects this commitment. They continue to innovate and adapt in this rapidly evolving field, providing their clients with state-of-the-art tools and solutions.  \n",
    "\n",
    "llm_labs Products:  \n",
    "   \n",
    "1. LLM Deploy: An easy-to-use and robust tool for deploying LLM models at scale.   \n",
    "  \n",
    "2. LLM FineTune: A dedicated platform for fine-tuning your LLM models according to specific application needs.   \n",
    "  \n",
    "3. LLM Explore: An interactive exploration tool that enables you to understand and visualize your LLM models better.  \n",
    "   \n",
    "4. LLM Track: A state-of-the-art tracking system that monitors your LLM experiments in real-time, providing valuable insights and analytics.  \n",
    "   \n",
    "5. LLM CostOptim: A cutting-edge cost optimization tool that ensures your LLM experiments are conducted at a highly competitive cost as compared to AWS, Azure etc.  \n",
    "   \n",
    "Company:  \n",
    "llm_labs  \n",
    "Website: www.llmlabs.com  \n",
    "Email: info@llmlabs.com  \n",
    "Location: Boston, MA, USA  \n",
    "Industry: AI and Machine Learning Software Solutions\"\"\"\n",
    "\n",
    "email_1 = \"\"\"Subject: Unleashing the Full Potential of LLM & NLP with llm_labs  \n",
    "   \n",
    "Dear Jack,  \n",
    "   \n",
    "I hope this email finds you well.  \n",
    "   \n",
    "My name is Ty, and I am reaching out from llm_labs, a company that is passionate about optimizing large language models (LLM) and natural language processing (NLP). Given your startup's focus on the same sphere, I believe we could form a mutually beneficial partnership.  \n",
    "   \n",
    "At llm_labs, we offer an extensive suite of solutions designed to make your work in LLM and NLP as efficient and cost-effective as possible. Our services encompass deployment, fine-tuning, exploration, and tracking of LLM experiments. We have honed our technology to ensure that our clients can conduct their experiments at costs that compete favorably with major providers such as AWS and Azure.  \n",
    "   \n",
    "We understand the challenges that startups in the LLM and NLP space often encounter. Our solutions are designed to streamline your processes, allowing you to focus on innovation and growth instead of logistics and cost management.   \n",
    "  \n",
    "We would be delighted to set up a call or meeting to further discuss how llm_labs can support your startup's goals. If you are interested, please let us know a suitable time for you and we will arrange it accordingly.  \n",
    "   \n",
    "Should you wish to learn more about our services before proceeding, please do not hesitate to visit our website or reach out to us directly. We are more than willing to answer any questions you may have.  \n",
    "   \n",
    "Thank you for considering our proposal. We look forward to the possibility of working with you.  \n",
    "   \n",
    "Best Regards,  \n",
    "   \n",
    "Ty  \n",
    "llm_labs  \n",
    "   \n",
    "P.S. We respect your email preferences. If you wish to unsubscribe from our outreach emails, please click [here](#) or reply to this email with the word \"unsubscribe\" in the subject line.  \n",
    "\"\"\""
   ]
  },
  {
   "cell_type": "code",
   "execution_count": 4,
   "metadata": {},
   "outputs": [],
   "source": [
    "from base_content import Content\n",
    "import pandas as pd"
   ]
  },
  {
   "cell_type": "code",
   "execution_count": 5,
   "metadata": {},
   "outputs": [],
   "source": [
    "content = Content(generated_content=email_1,\n",
    "                  reference_text=reference_details,\n",
    "                  content_type='email',\n",
    "                  model='gpt-4o')"
   ]
  },
  {
   "cell_type": "code",
   "execution_count": 6,
   "metadata": {},
   "outputs": [
    {
     "data": {
      "text/plain": [
       "{'overall_sentiment': 0.9984500000000001,\n",
       " 'reading_ease': 62.68,\n",
       " 'word_count': 334,\n",
       " 'para_count': 1,\n",
       " 'sent_count': 17,\n",
       " 'words_per_sentence': 19.647058823529413,\n",
       " 'lexical_diversity': 0.5658682634730539}"
      ]
     },
     "execution_count": 6,
     "metadata": {},
     "output_type": "execute_result"
    }
   ],
   "source": [
    "content.get_statistical_metrics()"
   ]
  },
  {
   "cell_type": "code",
   "execution_count": 7,
   "metadata": {},
   "outputs": [
    {
     "data": {
      "text/plain": [
       "{'content_tone': 'Formal',\n",
       " 'content_topic': 'Partnership proposal for optimizing LLM and NLP',\n",
       " 'suggested_keywords': ['LLM',\n",
       "  'NLP',\n",
       "  'large language models',\n",
       "  'natural language processing',\n",
       "  'llm_labs',\n",
       "  'startup partnership',\n",
       "  'cost-effective solutions',\n",
       "  'LLM deployment',\n",
       "  'LLM fine-tuning',\n",
       "  'LLM tracking'],\n",
       " 'search_queries': ['LLM and NLP partnership proposal',\n",
       "  'cost-effective LLM solutions for startups',\n",
       "  'optimize LLM and NLP with llm_labs',\n",
       "  'LLM deployment and fine-tuning services']}"
      ]
     },
     "execution_count": 7,
     "metadata": {},
     "output_type": "execute_result"
    }
   ],
   "source": [
    "content.get_content_insights()"
   ]
  },
  {
   "cell_type": "code",
   "execution_count": 8,
   "metadata": {},
   "outputs": [
    {
     "data": {
      "application/vnd.jupyter.widget-view+json": {
       "model_id": "ce7de7cf3840458eb8bf19dac1d2bccc",
       "version_major": 2,
       "version_minor": 0
      },
      "text/plain": [
       "Output()"
      ]
     },
     "metadata": {},
     "output_type": "display_data"
    },
    {
     "data": {
      "text/html": [
       "<pre style=\"white-space:pre;overflow-x:auto;line-height:normal;font-family:Menlo,'DejaVu Sans Mono',consolas,'Courier New',monospace\"></pre>\n"
      ],
      "text/plain": []
     },
     "metadata": {},
     "output_type": "display_data"
    },
    {
     "data": {
      "text/html": [
       "<pre style=\"white-space:pre;overflow-x:auto;line-height:normal;font-family:Menlo,'DejaVu Sans Mono',consolas,'Courier New',monospace\">\n",
       "</pre>\n"
      ],
      "text/plain": [
       "\n"
      ]
     },
     "metadata": {},
     "output_type": "display_data"
    },
    {
     "data": {
      "application/vnd.jupyter.widget-view+json": {
       "model_id": "337136ba96e84891b8d57bf9d80687e7",
       "version_major": 2,
       "version_minor": 0
      },
      "text/plain": [
       "Output()"
      ]
     },
     "metadata": {},
     "output_type": "display_data"
    },
    {
     "data": {
      "text/html": [
       "<pre style=\"white-space:pre;overflow-x:auto;line-height:normal;font-family:Menlo,'DejaVu Sans Mono',consolas,'Courier New',monospace\">Event loop is already running. Applying nest_asyncio patch to allow async execution...\n",
       "</pre>\n"
      ],
      "text/plain": [
       "Event loop is already running. Applying nest_asyncio patch to allow async execution...\n"
      ]
     },
     "metadata": {},
     "output_type": "display_data"
    },
    {
     "data": {
      "text/html": [
       "<pre style=\"white-space:pre;overflow-x:auto;line-height:normal;font-family:Menlo,'DejaVu Sans Mono',consolas,'Courier New',monospace\"></pre>\n"
      ],
      "text/plain": []
     },
     "metadata": {},
     "output_type": "display_data"
    },
    {
     "data": {
      "text/html": [
       "<pre style=\"white-space:pre;overflow-x:auto;line-height:normal;font-family:Menlo,'DejaVu Sans Mono',consolas,'Courier New',monospace\">\n",
       "</pre>\n"
      ],
      "text/plain": [
       "\n"
      ]
     },
     "metadata": {},
     "output_type": "display_data"
    },
    {
     "data": {
      "application/vnd.jupyter.widget-view+json": {
       "model_id": "bb23425885cd4085a6838023299b34d9",
       "version_major": 2,
       "version_minor": 0
      },
      "text/plain": [
       "Output()"
      ]
     },
     "metadata": {},
     "output_type": "display_data"
    },
    {
     "name": "stdout",
     "output_type": "stream",
     "text": [
      "Event loop is already running. Applying nest_asyncio patch to allow async execution...\n"
     ]
    },
    {
     "data": {
      "text/html": [
       "<pre style=\"white-space:pre;overflow-x:auto;line-height:normal;font-family:Menlo,'DejaVu Sans Mono',consolas,'Courier New',monospace\"></pre>\n"
      ],
      "text/plain": []
     },
     "metadata": {},
     "output_type": "display_data"
    },
    {
     "data": {
      "text/html": [
       "<pre style=\"white-space:pre;overflow-x:auto;line-height:normal;font-family:Menlo,'DejaVu Sans Mono',consolas,'Courier New',monospace\">\n",
       "</pre>\n"
      ],
      "text/plain": [
       "\n"
      ]
     },
     "metadata": {},
     "output_type": "display_data"
    },
    {
     "name": "stderr",
     "output_type": "stream",
     "text": [
      "/Users/harshshah/miniconda3/envs/eval/lib/python3.12/site-packages/portalocker/utils.py:218: UserWarning: timeout has no effect in blocking mode\n",
      "  warnings.warn(\n"
     ]
    },
    {
     "data": {
      "text/html": [
       "<pre style=\"white-space:pre;overflow-x:auto;line-height:normal;font-family:Menlo,'DejaVu Sans Mono',consolas,'Courier New',monospace\">✅ Tests finished! Run <span style=\"color: #008000; text-decoration-color: #008000\">\"deepeval login\"</span> to view evaluation results on the web.\n",
       "</pre>\n"
      ],
      "text/plain": [
       "✅ Tests finished! Run \u001b[32m\"deepeval login\"\u001b[0m to view evaluation results on the web.\n"
      ]
     },
     "metadata": {},
     "output_type": "display_data"
    },
    {
     "data": {
      "application/vnd.jupyter.widget-view+json": {
       "model_id": "1ff00e3e83494801b684816e8c9af352",
       "version_major": 2,
       "version_minor": 0
      },
      "text/plain": [
       "Output()"
      ]
     },
     "metadata": {},
     "output_type": "display_data"
    },
    {
     "name": "stdout",
     "output_type": "stream",
     "text": [
      "Event loop is already running. Applying nest_asyncio patch to allow async execution...\n"
     ]
    },
    {
     "data": {
      "text/html": [
       "<pre style=\"white-space:pre;overflow-x:auto;line-height:normal;font-family:Menlo,'DejaVu Sans Mono',consolas,'Courier New',monospace\"></pre>\n"
      ],
      "text/plain": []
     },
     "metadata": {},
     "output_type": "display_data"
    },
    {
     "data": {
      "text/html": [
       "<pre style=\"white-space:pre;overflow-x:auto;line-height:normal;font-family:Menlo,'DejaVu Sans Mono',consolas,'Courier New',monospace\">\n",
       "</pre>\n"
      ],
      "text/plain": [
       "\n"
      ]
     },
     "metadata": {},
     "output_type": "display_data"
    },
    {
     "name": "stderr",
     "output_type": "stream",
     "text": [
      "/Users/harshshah/miniconda3/envs/eval/lib/python3.12/site-packages/portalocker/utils.py:218: UserWarning: timeout has no effect in blocking mode\n",
      "  warnings.warn(\n"
     ]
    },
    {
     "data": {
      "text/html": [
       "<pre style=\"white-space:pre;overflow-x:auto;line-height:normal;font-family:Menlo,'DejaVu Sans Mono',consolas,'Courier New',monospace\">✅ Tests finished! Run <span style=\"color: #008000; text-decoration-color: #008000\">\"deepeval login\"</span> to view evaluation results on the web.\n",
       "</pre>\n"
      ],
      "text/plain": [
       "✅ Tests finished! Run \u001b[32m\"deepeval login\"\u001b[0m to view evaluation results on the web.\n"
      ]
     },
     "metadata": {},
     "output_type": "display_data"
    }
   ],
   "source": [
    "res = content.get_llm_metrics()\n",
    "res_df = pd.DataFrame.from_dict(res,orient='index').reset_index()"
   ]
  },
  {
   "cell_type": "code",
   "execution_count": 9,
   "metadata": {},
   "outputs": [
    {
     "data": {
      "text/html": [
       "<div>\n",
       "<style scoped>\n",
       "    .dataframe tbody tr th:only-of-type {\n",
       "        vertical-align: middle;\n",
       "    }\n",
       "\n",
       "    .dataframe tbody tr th {\n",
       "        vertical-align: top;\n",
       "    }\n",
       "\n",
       "    .dataframe thead th {\n",
       "        text-align: right;\n",
       "    }\n",
       "</style>\n",
       "<table border=\"1\" class=\"dataframe\">\n",
       "  <thead>\n",
       "    <tr style=\"text-align: right;\">\n",
       "      <th></th>\n",
       "      <th>index</th>\n",
       "      <th>score</th>\n",
       "      <th>reason</th>\n",
       "    </tr>\n",
       "  </thead>\n",
       "  <tbody>\n",
       "    <tr>\n",
       "      <th>0</th>\n",
       "      <td>Hallucination Score</td>\n",
       "      <td>0.000000</td>\n",
       "      <td>The score is 0.00 because there are no factual...</td>\n",
       "    </tr>\n",
       "    <tr>\n",
       "      <th>1</th>\n",
       "      <td>Faithfulness Score</td>\n",
       "      <td>1.000000</td>\n",
       "      <td>The score is 1.00 because there are no contrad...</td>\n",
       "    </tr>\n",
       "    <tr>\n",
       "      <th>2</th>\n",
       "      <td>Factual Coverage</td>\n",
       "      <td>0.777530</td>\n",
       "      <td>The actual output includes key details such as...</td>\n",
       "    </tr>\n",
       "    <tr>\n",
       "      <th>3</th>\n",
       "      <td>Personalizability</td>\n",
       "      <td>0.886413</td>\n",
       "      <td>The email is highly relevant to Jack's interes...</td>\n",
       "    </tr>\n",
       "    <tr>\n",
       "      <th>4</th>\n",
       "      <td>Readability Score</td>\n",
       "      <td>0.860177</td>\n",
       "      <td>The vocabulary is accessible, sentences are of...</td>\n",
       "    </tr>\n",
       "    <tr>\n",
       "      <th>5</th>\n",
       "      <td>Cohesiveness</td>\n",
       "      <td>0.932082</td>\n",
       "      <td>The email has a clear structure, smooth flow b...</td>\n",
       "    </tr>\n",
       "    <tr>\n",
       "      <th>6</th>\n",
       "      <td>Subject Line</td>\n",
       "      <td>0.810069</td>\n",
       "      <td>The subject line is concise and reflects the t...</td>\n",
       "    </tr>\n",
       "    <tr>\n",
       "      <th>7</th>\n",
       "      <td>Clarity of purpose</td>\n",
       "      <td>0.861611</td>\n",
       "      <td>The purpose is stated in the first few sentenc...</td>\n",
       "    </tr>\n",
       "    <tr>\n",
       "      <th>8</th>\n",
       "      <td>Value proposition</td>\n",
       "      <td>0.584792</td>\n",
       "      <td>The email outlines benefits such as cost-effec...</td>\n",
       "    </tr>\n",
       "    <tr>\n",
       "      <th>9</th>\n",
       "      <td>Conciseness</td>\n",
       "      <td>0.865135</td>\n",
       "      <td>The main point is communicated early, the cont...</td>\n",
       "    </tr>\n",
       "    <tr>\n",
       "      <th>10</th>\n",
       "      <td>Call-to-action</td>\n",
       "      <td>0.932830</td>\n",
       "      <td>The call-to-action to set up a call or meeting...</td>\n",
       "    </tr>\n",
       "    <tr>\n",
       "      <th>11</th>\n",
       "      <td>Sender Information</td>\n",
       "      <td>0.507836</td>\n",
       "      <td>The actual output includes the sender's name (...</td>\n",
       "    </tr>\n",
       "    <tr>\n",
       "      <th>12</th>\n",
       "      <td>Opt out option</td>\n",
       "      <td>0.955225</td>\n",
       "      <td>The opt-out option is present, clear, easy to ...</td>\n",
       "    </tr>\n",
       "  </tbody>\n",
       "</table>\n",
       "</div>"
      ],
      "text/plain": [
       "                  index     score  \\\n",
       "0   Hallucination Score  0.000000   \n",
       "1    Faithfulness Score  1.000000   \n",
       "2      Factual Coverage  0.777530   \n",
       "3     Personalizability  0.886413   \n",
       "4     Readability Score  0.860177   \n",
       "5          Cohesiveness  0.932082   \n",
       "6         Subject Line   0.810069   \n",
       "7    Clarity of purpose  0.861611   \n",
       "8     Value proposition  0.584792   \n",
       "9           Conciseness  0.865135   \n",
       "10       Call-to-action  0.932830   \n",
       "11   Sender Information  0.507836   \n",
       "12       Opt out option  0.955225   \n",
       "\n",
       "                                               reason  \n",
       "0   The score is 0.00 because there are no factual...  \n",
       "1   The score is 1.00 because there are no contrad...  \n",
       "2   The actual output includes key details such as...  \n",
       "3   The email is highly relevant to Jack's interes...  \n",
       "4   The vocabulary is accessible, sentences are of...  \n",
       "5   The email has a clear structure, smooth flow b...  \n",
       "6   The subject line is concise and reflects the t...  \n",
       "7   The purpose is stated in the first few sentenc...  \n",
       "8   The email outlines benefits such as cost-effec...  \n",
       "9   The main point is communicated early, the cont...  \n",
       "10  The call-to-action to set up a call or meeting...  \n",
       "11  The actual output includes the sender's name (...  \n",
       "12  The opt-out option is present, clear, easy to ...  "
      ]
     },
     "execution_count": 9,
     "metadata": {},
     "output_type": "execute_result"
    }
   ],
   "source": [
    "res_df"
   ]
  },
  {
   "cell_type": "code",
   "execution_count": 10,
   "metadata": {},
   "outputs": [],
   "source": [
    "email_improved = \"\"\"\n",
    "Subject: Cut Costs, Not Corners with llm_labs!  \n",
    "   \n",
    "Hey Jack,  \n",
    "   \n",
    "Ty here from llm_labs. Caught wind of the cool LLM work your team at Startup AI Innovations is doing and thought we should connect.  \n",
    "   \n",
    "We're all about boosting LLM and NLP experiments - deploying, fine-tuning, exploring, tracking - you name it, we've got it. The best part? Our solutions can help you cut costs without compromising the quality of your work.  \n",
    "   \n",
    "Interested? Let's chat more about how we can help your business soar. Hit reply or schedule a call [here](#).  \n",
    "   \n",
    "Cheers,  \n",
    "Ty  \n",
    "   \n",
    "P.S. Prefer not to hear from us? No problem - just click [here](#) to unsubscribe.\n",
    "\"\"\""
   ]
  },
  {
   "cell_type": "code",
   "execution_count": 15,
   "metadata": {},
   "outputs": [],
   "source": [
    "content_2 = Content(generated_content=email_improved,\n",
    "                  reference_text=reference_details,\n",
    "                  content_type='email',\n",
    "                  model='gpt-4o')"
   ]
  },
  {
   "cell_type": "code",
   "execution_count": 16,
   "metadata": {},
   "outputs": [
    {
     "data": {
      "text/plain": [
       "{'content_tone': 'Friendly',\n",
       " 'content_topic': 'Cost-effective LLM and NLP solutions for startups',\n",
       " 'suggested_keywords': ['LLM solutions',\n",
       "  'NLP experiments',\n",
       "  'cost-effective AI',\n",
       "  'startup AI innovations',\n",
       "  'fine-tuning LLM',\n",
       "  'deploying LLM',\n",
       "  'tracking LLM'],\n",
       " 'search_queries': ['cost-effective LLM solutions for startups',\n",
       "  'NLP experiments for AI startups',\n",
       "  'affordable AI solutions for startups',\n",
       "  'fine-tuning LLM for startups']}"
      ]
     },
     "execution_count": 16,
     "metadata": {},
     "output_type": "execute_result"
    }
   ],
   "source": [
    "content_2.get_content_insights()"
   ]
  },
  {
   "cell_type": "code",
   "execution_count": 17,
   "metadata": {},
   "outputs": [
    {
     "data": {
      "application/vnd.jupyter.widget-view+json": {
       "model_id": "4fc610c97d724313a68b0e0cdb643ad5",
       "version_major": 2,
       "version_minor": 0
      },
      "text/plain": [
       "Output()"
      ]
     },
     "metadata": {},
     "output_type": "display_data"
    },
    {
     "data": {
      "text/html": [
       "<pre style=\"white-space:pre;overflow-x:auto;line-height:normal;font-family:Menlo,'DejaVu Sans Mono',consolas,'Courier New',monospace\"></pre>\n"
      ],
      "text/plain": []
     },
     "metadata": {},
     "output_type": "display_data"
    },
    {
     "data": {
      "text/html": [
       "<pre style=\"white-space:pre;overflow-x:auto;line-height:normal;font-family:Menlo,'DejaVu Sans Mono',consolas,'Courier New',monospace\">\n",
       "</pre>\n"
      ],
      "text/plain": [
       "\n"
      ]
     },
     "metadata": {},
     "output_type": "display_data"
    },
    {
     "data": {
      "application/vnd.jupyter.widget-view+json": {
       "model_id": "b2e6d90935354201b7a005034024a475",
       "version_major": 2,
       "version_minor": 0
      },
      "text/plain": [
       "Output()"
      ]
     },
     "metadata": {},
     "output_type": "display_data"
    },
    {
     "data": {
      "text/html": [
       "<pre style=\"white-space:pre;overflow-x:auto;line-height:normal;font-family:Menlo,'DejaVu Sans Mono',consolas,'Courier New',monospace\">Event loop is already running. Applying nest_asyncio patch to allow async execution...\n",
       "</pre>\n"
      ],
      "text/plain": [
       "Event loop is already running. Applying nest_asyncio patch to allow async execution...\n"
      ]
     },
     "metadata": {},
     "output_type": "display_data"
    },
    {
     "data": {
      "text/html": [
       "<pre style=\"white-space:pre;overflow-x:auto;line-height:normal;font-family:Menlo,'DejaVu Sans Mono',consolas,'Courier New',monospace\"></pre>\n"
      ],
      "text/plain": []
     },
     "metadata": {},
     "output_type": "display_data"
    },
    {
     "data": {
      "text/html": [
       "<pre style=\"white-space:pre;overflow-x:auto;line-height:normal;font-family:Menlo,'DejaVu Sans Mono',consolas,'Courier New',monospace\">\n",
       "</pre>\n"
      ],
      "text/plain": [
       "\n"
      ]
     },
     "metadata": {},
     "output_type": "display_data"
    },
    {
     "data": {
      "application/vnd.jupyter.widget-view+json": {
       "model_id": "4f2887f686ca45699300bbd218631db0",
       "version_major": 2,
       "version_minor": 0
      },
      "text/plain": [
       "Output()"
      ]
     },
     "metadata": {},
     "output_type": "display_data"
    },
    {
     "name": "stdout",
     "output_type": "stream",
     "text": [
      "Event loop is already running. Applying nest_asyncio patch to allow async execution...\n"
     ]
    },
    {
     "data": {
      "text/html": [
       "<pre style=\"white-space:pre;overflow-x:auto;line-height:normal;font-family:Menlo,'DejaVu Sans Mono',consolas,'Courier New',monospace\"></pre>\n"
      ],
      "text/plain": []
     },
     "metadata": {},
     "output_type": "display_data"
    },
    {
     "data": {
      "text/html": [
       "<pre style=\"white-space:pre;overflow-x:auto;line-height:normal;font-family:Menlo,'DejaVu Sans Mono',consolas,'Courier New',monospace\">\n",
       "</pre>\n"
      ],
      "text/plain": [
       "\n"
      ]
     },
     "metadata": {},
     "output_type": "display_data"
    },
    {
     "name": "stderr",
     "output_type": "stream",
     "text": [
      "/Users/harshshah/miniconda3/envs/eval/lib/python3.12/site-packages/portalocker/utils.py:218: UserWarning: timeout has no effect in blocking mode\n",
      "  warnings.warn(\n"
     ]
    },
    {
     "data": {
      "text/html": [
       "<pre style=\"white-space:pre;overflow-x:auto;line-height:normal;font-family:Menlo,'DejaVu Sans Mono',consolas,'Courier New',monospace\">✅ Tests finished! Run <span style=\"color: #008000; text-decoration-color: #008000\">\"deepeval login\"</span> to view evaluation results on the web.\n",
       "</pre>\n"
      ],
      "text/plain": [
       "✅ Tests finished! Run \u001b[32m\"deepeval login\"\u001b[0m to view evaluation results on the web.\n"
      ]
     },
     "metadata": {},
     "output_type": "display_data"
    },
    {
     "data": {
      "application/vnd.jupyter.widget-view+json": {
       "model_id": "7e5ed9b619544299a1c33c3b165245cd",
       "version_major": 2,
       "version_minor": 0
      },
      "text/plain": [
       "Output()"
      ]
     },
     "metadata": {},
     "output_type": "display_data"
    },
    {
     "name": "stdout",
     "output_type": "stream",
     "text": [
      "Event loop is already running. Applying nest_asyncio patch to allow async execution...\n"
     ]
    },
    {
     "data": {
      "text/html": [
       "<pre style=\"white-space:pre;overflow-x:auto;line-height:normal;font-family:Menlo,'DejaVu Sans Mono',consolas,'Courier New',monospace\"></pre>\n"
      ],
      "text/plain": []
     },
     "metadata": {},
     "output_type": "display_data"
    },
    {
     "data": {
      "text/html": [
       "<pre style=\"white-space:pre;overflow-x:auto;line-height:normal;font-family:Menlo,'DejaVu Sans Mono',consolas,'Courier New',monospace\">\n",
       "</pre>\n"
      ],
      "text/plain": [
       "\n"
      ]
     },
     "metadata": {},
     "output_type": "display_data"
    },
    {
     "name": "stderr",
     "output_type": "stream",
     "text": [
      "/Users/harshshah/miniconda3/envs/eval/lib/python3.12/site-packages/portalocker/utils.py:218: UserWarning: timeout has no effect in blocking mode\n",
      "  warnings.warn(\n"
     ]
    },
    {
     "data": {
      "text/html": [
       "<pre style=\"white-space:pre;overflow-x:auto;line-height:normal;font-family:Menlo,'DejaVu Sans Mono',consolas,'Courier New',monospace\">✅ Tests finished! Run <span style=\"color: #008000; text-decoration-color: #008000\">\"deepeval login\"</span> to view evaluation results on the web.\n",
       "</pre>\n"
      ],
      "text/plain": [
       "✅ Tests finished! Run \u001b[32m\"deepeval login\"\u001b[0m to view evaluation results on the web.\n"
      ]
     },
     "metadata": {},
     "output_type": "display_data"
    }
   ],
   "source": [
    "new_res = content_2.get_llm_metrics()\n",
    "new_res_df = pd.DataFrame.from_dict(new_res, orient='index').reset_index()"
   ]
  },
  {
   "cell_type": "code",
   "execution_count": 18,
   "metadata": {},
   "outputs": [
    {
     "data": {
      "text/html": [
       "<div>\n",
       "<style scoped>\n",
       "    .dataframe tbody tr th:only-of-type {\n",
       "        vertical-align: middle;\n",
       "    }\n",
       "\n",
       "    .dataframe tbody tr th {\n",
       "        vertical-align: top;\n",
       "    }\n",
       "\n",
       "    .dataframe thead th {\n",
       "        text-align: right;\n",
       "    }\n",
       "</style>\n",
       "<table border=\"1\" class=\"dataframe\">\n",
       "  <thead>\n",
       "    <tr style=\"text-align: right;\">\n",
       "      <th></th>\n",
       "      <th>index</th>\n",
       "      <th>score</th>\n",
       "      <th>reason</th>\n",
       "    </tr>\n",
       "  </thead>\n",
       "  <tbody>\n",
       "    <tr>\n",
       "      <th>0</th>\n",
       "      <td>Hallucination Score</td>\n",
       "      <td>0.000000</td>\n",
       "      <td>The score is 0.00 because there are no factual...</td>\n",
       "    </tr>\n",
       "    <tr>\n",
       "      <th>1</th>\n",
       "      <td>Faithfulness Score</td>\n",
       "      <td>0.800000</td>\n",
       "      <td>The score is 0.80 because the actual output in...</td>\n",
       "    </tr>\n",
       "    <tr>\n",
       "      <th>2</th>\n",
       "      <td>Factual Coverage</td>\n",
       "      <td>0.449067</td>\n",
       "      <td>The actual output mentions Jack, Startup AI In...</td>\n",
       "    </tr>\n",
       "    <tr>\n",
       "      <th>3</th>\n",
       "      <td>Personalizability</td>\n",
       "      <td>0.756707</td>\n",
       "      <td>The email is relevant to Jack's interests in L...</td>\n",
       "    </tr>\n",
       "    <tr>\n",
       "      <th>4</th>\n",
       "      <td>Readability Score</td>\n",
       "      <td>0.873106</td>\n",
       "      <td>The vocabulary is simple and accessible, sente...</td>\n",
       "    </tr>\n",
       "    <tr>\n",
       "      <th>5</th>\n",
       "      <td>Cohesiveness</td>\n",
       "      <td>0.895208</td>\n",
       "      <td>The email has a clear structure, smooth flow, ...</td>\n",
       "    </tr>\n",
       "    <tr>\n",
       "      <th>6</th>\n",
       "      <td>Subject Line</td>\n",
       "      <td>0.875491</td>\n",
       "      <td>The subject line is concise and accurately ref...</td>\n",
       "    </tr>\n",
       "    <tr>\n",
       "      <th>7</th>\n",
       "      <td>Clarity of purpose</td>\n",
       "      <td>0.873096</td>\n",
       "      <td>The purpose is stated early, and the expected ...</td>\n",
       "    </tr>\n",
       "    <tr>\n",
       "      <th>8</th>\n",
       "      <td>Value proposition</td>\n",
       "      <td>0.358364</td>\n",
       "      <td>The explanation mentions cost-cutting benefits...</td>\n",
       "    </tr>\n",
       "    <tr>\n",
       "      <th>9</th>\n",
       "      <td>Conciseness</td>\n",
       "      <td>0.897486</td>\n",
       "      <td>The main point about cost-effective LLM soluti...</td>\n",
       "    </tr>\n",
       "    <tr>\n",
       "      <th>10</th>\n",
       "      <td>Call-to-action</td>\n",
       "      <td>0.962246</td>\n",
       "      <td>The call-to-action 'Hit reply or schedule a ca...</td>\n",
       "    </tr>\n",
       "    <tr>\n",
       "      <th>11</th>\n",
       "      <td>Sender Information</td>\n",
       "      <td>0.487125</td>\n",
       "      <td>The actual output includes the sender's name a...</td>\n",
       "    </tr>\n",
       "    <tr>\n",
       "      <th>12</th>\n",
       "      <td>Opt out option</td>\n",
       "      <td>0.955225</td>\n",
       "      <td>The opt-out option is present, clear, easy to ...</td>\n",
       "    </tr>\n",
       "  </tbody>\n",
       "</table>\n",
       "</div>"
      ],
      "text/plain": [
       "                  index     score  \\\n",
       "0   Hallucination Score  0.000000   \n",
       "1    Faithfulness Score  0.800000   \n",
       "2      Factual Coverage  0.449067   \n",
       "3     Personalizability  0.756707   \n",
       "4     Readability Score  0.873106   \n",
       "5          Cohesiveness  0.895208   \n",
       "6         Subject Line   0.875491   \n",
       "7    Clarity of purpose  0.873096   \n",
       "8     Value proposition  0.358364   \n",
       "9           Conciseness  0.897486   \n",
       "10       Call-to-action  0.962246   \n",
       "11   Sender Information  0.487125   \n",
       "12       Opt out option  0.955225   \n",
       "\n",
       "                                               reason  \n",
       "0   The score is 0.00 because there are no factual...  \n",
       "1   The score is 0.80 because the actual output in...  \n",
       "2   The actual output mentions Jack, Startup AI In...  \n",
       "3   The email is relevant to Jack's interests in L...  \n",
       "4   The vocabulary is simple and accessible, sente...  \n",
       "5   The email has a clear structure, smooth flow, ...  \n",
       "6   The subject line is concise and accurately ref...  \n",
       "7   The purpose is stated early, and the expected ...  \n",
       "8   The explanation mentions cost-cutting benefits...  \n",
       "9   The main point about cost-effective LLM soluti...  \n",
       "10  The call-to-action 'Hit reply or schedule a ca...  \n",
       "11  The actual output includes the sender's name a...  \n",
       "12  The opt-out option is present, clear, easy to ...  "
      ]
     },
     "execution_count": 18,
     "metadata": {},
     "output_type": "execute_result"
    }
   ],
   "source": [
    "new_res_df"
   ]
  },
  {
   "cell_type": "code",
   "execution_count": 19,
   "metadata": {},
   "outputs": [],
   "source": [
    "comparision_df = res_df.merge(new_res_df, on='index', suffixes=('_old','_new'))"
   ]
  },
  {
   "cell_type": "code",
   "execution_count": 23,
   "metadata": {},
   "outputs": [
    {
     "data": {
      "text/html": [
       "<div>\n",
       "<style scoped>\n",
       "    .dataframe tbody tr th:only-of-type {\n",
       "        vertical-align: middle;\n",
       "    }\n",
       "\n",
       "    .dataframe tbody tr th {\n",
       "        vertical-align: top;\n",
       "    }\n",
       "\n",
       "    .dataframe thead th {\n",
       "        text-align: right;\n",
       "    }\n",
       "</style>\n",
       "<table border=\"1\" class=\"dataframe\">\n",
       "  <thead>\n",
       "    <tr style=\"text-align: right;\">\n",
       "      <th></th>\n",
       "      <th>index</th>\n",
       "      <th>score_old</th>\n",
       "      <th>reason_old</th>\n",
       "      <th>score_new</th>\n",
       "      <th>reason_new</th>\n",
       "    </tr>\n",
       "  </thead>\n",
       "  <tbody>\n",
       "    <tr>\n",
       "      <th>4</th>\n",
       "      <td>Readability Score</td>\n",
       "      <td>0.860177</td>\n",
       "      <td>The vocabulary is accessible, sentences are of...</td>\n",
       "      <td>0.873106</td>\n",
       "      <td>The vocabulary is simple and accessible, sente...</td>\n",
       "    </tr>\n",
       "    <tr>\n",
       "      <th>6</th>\n",
       "      <td>Subject Line</td>\n",
       "      <td>0.810069</td>\n",
       "      <td>The subject line is concise and reflects the t...</td>\n",
       "      <td>0.875491</td>\n",
       "      <td>The subject line is concise and accurately ref...</td>\n",
       "    </tr>\n",
       "    <tr>\n",
       "      <th>7</th>\n",
       "      <td>Clarity of purpose</td>\n",
       "      <td>0.861611</td>\n",
       "      <td>The purpose is stated in the first few sentenc...</td>\n",
       "      <td>0.873096</td>\n",
       "      <td>The purpose is stated early, and the expected ...</td>\n",
       "    </tr>\n",
       "    <tr>\n",
       "      <th>9</th>\n",
       "      <td>Conciseness</td>\n",
       "      <td>0.865135</td>\n",
       "      <td>The main point is communicated early, the cont...</td>\n",
       "      <td>0.897486</td>\n",
       "      <td>The main point about cost-effective LLM soluti...</td>\n",
       "    </tr>\n",
       "    <tr>\n",
       "      <th>10</th>\n",
       "      <td>Call-to-action</td>\n",
       "      <td>0.932830</td>\n",
       "      <td>The call-to-action to set up a call or meeting...</td>\n",
       "      <td>0.962246</td>\n",
       "      <td>The call-to-action 'Hit reply or schedule a ca...</td>\n",
       "    </tr>\n",
       "    <tr>\n",
       "      <th>12</th>\n",
       "      <td>Opt out option</td>\n",
       "      <td>0.955225</td>\n",
       "      <td>The opt-out option is present, clear, easy to ...</td>\n",
       "      <td>0.955225</td>\n",
       "      <td>The opt-out option is present, clear, easy to ...</td>\n",
       "    </tr>\n",
       "  </tbody>\n",
       "</table>\n",
       "</div>"
      ],
      "text/plain": [
       "                 index  score_old  \\\n",
       "4    Readability Score   0.860177   \n",
       "6        Subject Line    0.810069   \n",
       "7   Clarity of purpose   0.861611   \n",
       "9          Conciseness   0.865135   \n",
       "10      Call-to-action   0.932830   \n",
       "12      Opt out option   0.955225   \n",
       "\n",
       "                                           reason_old  score_new  \\\n",
       "4   The vocabulary is accessible, sentences are of...   0.873106   \n",
       "6   The subject line is concise and reflects the t...   0.875491   \n",
       "7   The purpose is stated in the first few sentenc...   0.873096   \n",
       "9   The main point is communicated early, the cont...   0.897486   \n",
       "10  The call-to-action to set up a call or meeting...   0.962246   \n",
       "12  The opt-out option is present, clear, easy to ...   0.955225   \n",
       "\n",
       "                                           reason_new  \n",
       "4   The vocabulary is simple and accessible, sente...  \n",
       "6   The subject line is concise and accurately ref...  \n",
       "7   The purpose is stated early, and the expected ...  \n",
       "9   The main point about cost-effective LLM soluti...  \n",
       "10  The call-to-action 'Hit reply or schedule a ca...  \n",
       "12  The opt-out option is present, clear, easy to ...  "
      ]
     },
     "execution_count": 23,
     "metadata": {},
     "output_type": "execute_result"
    }
   ],
   "source": [
    "comparision_df[comparision_df['score_new']>comparision_df['score_old']]"
   ]
  },
  {
   "cell_type": "code",
   "execution_count": null,
   "metadata": {},
   "outputs": [],
   "source": []
  }
 ],
 "metadata": {
  "kernelspec": {
   "display_name": "eval",
   "language": "python",
   "name": "python3"
  },
  "language_info": {
   "codemirror_mode": {
    "name": "ipython",
    "version": 3
   },
   "file_extension": ".py",
   "mimetype": "text/x-python",
   "name": "python",
   "nbconvert_exporter": "python",
   "pygments_lexer": "ipython3",
   "version": "3.12.3"
  }
 },
 "nbformat": 4,
 "nbformat_minor": 2
}

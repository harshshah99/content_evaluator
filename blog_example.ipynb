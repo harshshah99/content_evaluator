{
 "cells": [
  {
   "cell_type": "code",
   "execution_count": 23,
   "metadata": {},
   "outputs": [],
   "source": [
    "import os\n",
    "\n",
    "os.environ['OPENAI_API_KEY'] = 'your-openai-key-here'"
   ]
  },
  {
   "cell_type": "code",
   "execution_count": 5,
   "metadata": {},
   "outputs": [
    {
     "name": "stdout",
     "output_type": "stream",
     "text": [
      "Requirement already satisfied: deepeval in /Users/harshshah/miniconda3/envs/eval/lib/python3.12/site-packages (0.21.48)\n",
      "Requirement already satisfied: requests in /Users/harshshah/miniconda3/envs/eval/lib/python3.12/site-packages (from deepeval) (2.32.2)\n",
      "Requirement already satisfied: tqdm in /Users/harshshah/miniconda3/envs/eval/lib/python3.12/site-packages (from deepeval) (4.66.4)\n",
      "Requirement already satisfied: pytest in /Users/harshshah/miniconda3/envs/eval/lib/python3.12/site-packages (from deepeval) (8.2.1)\n",
      "Requirement already satisfied: tabulate in /Users/harshshah/miniconda3/envs/eval/lib/python3.12/site-packages (from deepeval) (0.9.0)\n",
      "Requirement already satisfied: typer in /Users/harshshah/miniconda3/envs/eval/lib/python3.12/site-packages (from deepeval) (0.12.3)\n",
      "Requirement already satisfied: rich in /Users/harshshah/miniconda3/envs/eval/lib/python3.12/site-packages (from deepeval) (13.7.1)\n",
      "Requirement already satisfied: protobuf==4.25.1 in /Users/harshshah/miniconda3/envs/eval/lib/python3.12/site-packages (from deepeval) (4.25.1)\n",
      "Requirement already satisfied: pydantic in /Users/harshshah/miniconda3/envs/eval/lib/python3.12/site-packages (from deepeval) (2.7.1)\n",
      "Requirement already satisfied: sentry-sdk in /Users/harshshah/miniconda3/envs/eval/lib/python3.12/site-packages (from deepeval) (2.3.1)\n",
      "Requirement already satisfied: pytest-repeat in /Users/harshshah/miniconda3/envs/eval/lib/python3.12/site-packages (from deepeval) (0.9.3)\n",
      "Requirement already satisfied: pytest-xdist in /Users/harshshah/miniconda3/envs/eval/lib/python3.12/site-packages (from deepeval) (3.6.1)\n",
      "Requirement already satisfied: portalocker in /Users/harshshah/miniconda3/envs/eval/lib/python3.12/site-packages (from deepeval) (2.8.2)\n",
      "Requirement already satisfied: langchain in /Users/harshshah/miniconda3/envs/eval/lib/python3.12/site-packages (from deepeval) (0.2.1)\n",
      "Requirement already satisfied: langchain-core in /Users/harshshah/miniconda3/envs/eval/lib/python3.12/site-packages (from deepeval) (0.2.1)\n",
      "Requirement already satisfied: langchain-openai in /Users/harshshah/miniconda3/envs/eval/lib/python3.12/site-packages (from deepeval) (0.1.7)\n",
      "Requirement already satisfied: ragas in /Users/harshshah/miniconda3/envs/eval/lib/python3.12/site-packages (from deepeval) (0.1.8)\n",
      "Requirement already satisfied: docx2txt~=0.8 in /Users/harshshah/miniconda3/envs/eval/lib/python3.12/site-packages (from deepeval) (0.8)\n",
      "Requirement already satisfied: importlib-metadata>=6.0.2 in /Users/harshshah/miniconda3/envs/eval/lib/python3.12/site-packages (from deepeval) (7.0.0)\n",
      "Requirement already satisfied: tenacity~=8.2.3 in /Users/harshshah/miniconda3/envs/eval/lib/python3.12/site-packages (from deepeval) (8.2.3)\n",
      "Requirement already satisfied: opentelemetry-api<2.0.0,>=1.14.0 in /Users/harshshah/miniconda3/envs/eval/lib/python3.12/site-packages (from deepeval) (1.24.0)\n",
      "Requirement already satisfied: opentelemetry-sdk<2.0.0,>=1.14.0 in /Users/harshshah/miniconda3/envs/eval/lib/python3.12/site-packages (from deepeval) (1.24.0)\n",
      "Requirement already satisfied: opentelemetry-exporter-otlp-proto-grpc<2.0.0,>=1.24.0 in /Users/harshshah/miniconda3/envs/eval/lib/python3.12/site-packages (from deepeval) (1.24.0)\n",
      "Requirement already satisfied: zipp>=0.5 in /Users/harshshah/miniconda3/envs/eval/lib/python3.12/site-packages (from importlib-metadata>=6.0.2->deepeval) (3.19.0)\n",
      "Requirement already satisfied: deprecated>=1.2.6 in /Users/harshshah/miniconda3/envs/eval/lib/python3.12/site-packages (from opentelemetry-api<2.0.0,>=1.14.0->deepeval) (1.2.14)\n",
      "Requirement already satisfied: googleapis-common-protos~=1.52 in /Users/harshshah/miniconda3/envs/eval/lib/python3.12/site-packages (from opentelemetry-exporter-otlp-proto-grpc<2.0.0,>=1.24.0->deepeval) (1.63.0)\n",
      "Requirement already satisfied: grpcio<2.0.0,>=1.0.0 in /Users/harshshah/miniconda3/envs/eval/lib/python3.12/site-packages (from opentelemetry-exporter-otlp-proto-grpc<2.0.0,>=1.24.0->deepeval) (1.64.0)\n",
      "Requirement already satisfied: opentelemetry-exporter-otlp-proto-common==1.24.0 in /Users/harshshah/miniconda3/envs/eval/lib/python3.12/site-packages (from opentelemetry-exporter-otlp-proto-grpc<2.0.0,>=1.24.0->deepeval) (1.24.0)\n",
      "Requirement already satisfied: opentelemetry-proto==1.24.0 in /Users/harshshah/miniconda3/envs/eval/lib/python3.12/site-packages (from opentelemetry-exporter-otlp-proto-grpc<2.0.0,>=1.24.0->deepeval) (1.24.0)\n",
      "Requirement already satisfied: opentelemetry-semantic-conventions==0.45b0 in /Users/harshshah/miniconda3/envs/eval/lib/python3.12/site-packages (from opentelemetry-sdk<2.0.0,>=1.14.0->deepeval) (0.45b0)\n",
      "Requirement already satisfied: typing-extensions>=3.7.4 in /Users/harshshah/miniconda3/envs/eval/lib/python3.12/site-packages (from opentelemetry-sdk<2.0.0,>=1.14.0->deepeval) (4.12.0)\n",
      "Requirement already satisfied: PyYAML>=5.3 in /Users/harshshah/miniconda3/envs/eval/lib/python3.12/site-packages (from langchain->deepeval) (6.0.1)\n",
      "Requirement already satisfied: SQLAlchemy<3,>=1.4 in /Users/harshshah/miniconda3/envs/eval/lib/python3.12/site-packages (from langchain->deepeval) (2.0.30)\n",
      "Requirement already satisfied: aiohttp<4.0.0,>=3.8.3 in /Users/harshshah/miniconda3/envs/eval/lib/python3.12/site-packages (from langchain->deepeval) (3.9.5)\n",
      "Requirement already satisfied: langchain-text-splitters<0.3.0,>=0.2.0 in /Users/harshshah/miniconda3/envs/eval/lib/python3.12/site-packages (from langchain->deepeval) (0.2.0)\n",
      "Requirement already satisfied: langsmith<0.2.0,>=0.1.17 in /Users/harshshah/miniconda3/envs/eval/lib/python3.12/site-packages (from langchain->deepeval) (0.1.63)\n",
      "Requirement already satisfied: numpy<2,>=1 in /Users/harshshah/miniconda3/envs/eval/lib/python3.12/site-packages (from langchain->deepeval) (1.26.4)\n",
      "Requirement already satisfied: jsonpatch<2.0,>=1.33 in /Users/harshshah/miniconda3/envs/eval/lib/python3.12/site-packages (from langchain-core->deepeval) (1.33)\n",
      "Requirement already satisfied: packaging<24.0,>=23.2 in /Users/harshshah/miniconda3/envs/eval/lib/python3.12/site-packages (from langchain-core->deepeval) (23.2)\n",
      "Requirement already satisfied: annotated-types>=0.4.0 in /Users/harshshah/miniconda3/envs/eval/lib/python3.12/site-packages (from pydantic->deepeval) (0.7.0)\n",
      "Requirement already satisfied: pydantic-core==2.18.2 in /Users/harshshah/miniconda3/envs/eval/lib/python3.12/site-packages (from pydantic->deepeval) (2.18.2)\n",
      "Requirement already satisfied: charset-normalizer<4,>=2 in /Users/harshshah/miniconda3/envs/eval/lib/python3.12/site-packages (from requests->deepeval) (3.3.2)\n",
      "Requirement already satisfied: idna<4,>=2.5 in /Users/harshshah/miniconda3/envs/eval/lib/python3.12/site-packages (from requests->deepeval) (3.7)\n",
      "Requirement already satisfied: urllib3<3,>=1.21.1 in /Users/harshshah/miniconda3/envs/eval/lib/python3.12/site-packages (from requests->deepeval) (2.2.1)\n",
      "Requirement already satisfied: certifi>=2017.4.17 in /Users/harshshah/miniconda3/envs/eval/lib/python3.12/site-packages (from requests->deepeval) (2024.2.2)\n",
      "Requirement already satisfied: openai<2.0.0,>=1.24.0 in /Users/harshshah/miniconda3/envs/eval/lib/python3.12/site-packages (from langchain-openai->deepeval) (1.30.3)\n",
      "Requirement already satisfied: tiktoken<1,>=0.7 in /Users/harshshah/miniconda3/envs/eval/lib/python3.12/site-packages (from langchain-openai->deepeval) (0.7.0)\n",
      "Requirement already satisfied: iniconfig in /Users/harshshah/miniconda3/envs/eval/lib/python3.12/site-packages (from pytest->deepeval) (2.0.0)\n",
      "Requirement already satisfied: pluggy<2.0,>=1.5 in /Users/harshshah/miniconda3/envs/eval/lib/python3.12/site-packages (from pytest->deepeval) (1.5.0)\n",
      "Requirement already satisfied: execnet>=2.1 in /Users/harshshah/miniconda3/envs/eval/lib/python3.12/site-packages (from pytest-xdist->deepeval) (2.1.1)\n",
      "Requirement already satisfied: datasets in /Users/harshshah/miniconda3/envs/eval/lib/python3.12/site-packages (from ragas->deepeval) (2.19.1)\n",
      "Requirement already satisfied: langchain-community in /Users/harshshah/miniconda3/envs/eval/lib/python3.12/site-packages (from ragas->deepeval) (0.2.1)\n",
      "Requirement already satisfied: pysbd>=0.3.4 in /Users/harshshah/miniconda3/envs/eval/lib/python3.12/site-packages (from ragas->deepeval) (0.3.4)\n",
      "Requirement already satisfied: nest-asyncio in /Users/harshshah/miniconda3/envs/eval/lib/python3.12/site-packages (from ragas->deepeval) (1.6.0)\n",
      "Requirement already satisfied: appdirs in /Users/harshshah/miniconda3/envs/eval/lib/python3.12/site-packages (from ragas->deepeval) (1.4.4)\n",
      "Requirement already satisfied: markdown-it-py>=2.2.0 in /Users/harshshah/miniconda3/envs/eval/lib/python3.12/site-packages (from rich->deepeval) (3.0.0)\n",
      "Requirement already satisfied: pygments<3.0.0,>=2.13.0 in /Users/harshshah/miniconda3/envs/eval/lib/python3.12/site-packages (from rich->deepeval) (2.15.1)\n",
      "Requirement already satisfied: click>=8.0.0 in /Users/harshshah/miniconda3/envs/eval/lib/python3.12/site-packages (from typer->deepeval) (8.1.7)\n",
      "Requirement already satisfied: shellingham>=1.3.0 in /Users/harshshah/miniconda3/envs/eval/lib/python3.12/site-packages (from typer->deepeval) (1.5.4)\n",
      "Requirement already satisfied: aiosignal>=1.1.2 in /Users/harshshah/miniconda3/envs/eval/lib/python3.12/site-packages (from aiohttp<4.0.0,>=3.8.3->langchain->deepeval) (1.3.1)\n",
      "Requirement already satisfied: attrs>=17.3.0 in /Users/harshshah/miniconda3/envs/eval/lib/python3.12/site-packages (from aiohttp<4.0.0,>=3.8.3->langchain->deepeval) (23.2.0)\n",
      "Requirement already satisfied: frozenlist>=1.1.1 in /Users/harshshah/miniconda3/envs/eval/lib/python3.12/site-packages (from aiohttp<4.0.0,>=3.8.3->langchain->deepeval) (1.4.1)\n",
      "Requirement already satisfied: multidict<7.0,>=4.5 in /Users/harshshah/miniconda3/envs/eval/lib/python3.12/site-packages (from aiohttp<4.0.0,>=3.8.3->langchain->deepeval) (6.0.5)\n",
      "Requirement already satisfied: yarl<2.0,>=1.0 in /Users/harshshah/miniconda3/envs/eval/lib/python3.12/site-packages (from aiohttp<4.0.0,>=3.8.3->langchain->deepeval) (1.9.4)\n",
      "Requirement already satisfied: wrapt<2,>=1.10 in /Users/harshshah/miniconda3/envs/eval/lib/python3.12/site-packages (from deprecated>=1.2.6->opentelemetry-api<2.0.0,>=1.14.0->deepeval) (1.16.0)\n",
      "Requirement already satisfied: jsonpointer>=1.9 in /Users/harshshah/miniconda3/envs/eval/lib/python3.12/site-packages (from jsonpatch<2.0,>=1.33->langchain-core->deepeval) (2.4)\n",
      "Requirement already satisfied: orjson<4.0.0,>=3.9.14 in /Users/harshshah/miniconda3/envs/eval/lib/python3.12/site-packages (from langsmith<0.2.0,>=0.1.17->langchain->deepeval) (3.10.3)\n",
      "Requirement already satisfied: mdurl~=0.1 in /Users/harshshah/miniconda3/envs/eval/lib/python3.12/site-packages (from markdown-it-py>=2.2.0->rich->deepeval) (0.1.2)\n",
      "Requirement already satisfied: anyio<5,>=3.5.0 in /Users/harshshah/miniconda3/envs/eval/lib/python3.12/site-packages (from openai<2.0.0,>=1.24.0->langchain-openai->deepeval) (4.4.0)\n",
      "Requirement already satisfied: distro<2,>=1.7.0 in /Users/harshshah/miniconda3/envs/eval/lib/python3.12/site-packages (from openai<2.0.0,>=1.24.0->langchain-openai->deepeval) (1.9.0)\n",
      "Requirement already satisfied: httpx<1,>=0.23.0 in /Users/harshshah/miniconda3/envs/eval/lib/python3.12/site-packages (from openai<2.0.0,>=1.24.0->langchain-openai->deepeval) (0.27.0)\n",
      "Requirement already satisfied: sniffio in /Users/harshshah/miniconda3/envs/eval/lib/python3.12/site-packages (from openai<2.0.0,>=1.24.0->langchain-openai->deepeval) (1.3.1)\n",
      "Requirement already satisfied: regex>=2022.1.18 in /Users/harshshah/miniconda3/envs/eval/lib/python3.12/site-packages (from tiktoken<1,>=0.7->langchain-openai->deepeval) (2024.5.15)\n",
      "Requirement already satisfied: filelock in /Users/harshshah/miniconda3/envs/eval/lib/python3.12/site-packages (from datasets->ragas->deepeval) (3.14.0)\n",
      "Requirement already satisfied: pyarrow>=12.0.0 in /Users/harshshah/miniconda3/envs/eval/lib/python3.12/site-packages (from datasets->ragas->deepeval) (16.1.0)\n",
      "Requirement already satisfied: pyarrow-hotfix in /Users/harshshah/miniconda3/envs/eval/lib/python3.12/site-packages (from datasets->ragas->deepeval) (0.6)\n",
      "Requirement already satisfied: dill<0.3.9,>=0.3.0 in /Users/harshshah/miniconda3/envs/eval/lib/python3.12/site-packages (from datasets->ragas->deepeval) (0.3.8)\n",
      "Requirement already satisfied: pandas in /Users/harshshah/miniconda3/envs/eval/lib/python3.12/site-packages (from datasets->ragas->deepeval) (2.2.2)\n",
      "Requirement already satisfied: xxhash in /Users/harshshah/miniconda3/envs/eval/lib/python3.12/site-packages (from datasets->ragas->deepeval) (3.4.1)\n",
      "Requirement already satisfied: multiprocess in /Users/harshshah/miniconda3/envs/eval/lib/python3.12/site-packages (from datasets->ragas->deepeval) (0.70.16)\n",
      "Requirement already satisfied: fsspec<=2024.3.1,>=2023.1.0 in /Users/harshshah/miniconda3/envs/eval/lib/python3.12/site-packages (from fsspec[http]<=2024.3.1,>=2023.1.0->datasets->ragas->deepeval) (2024.3.1)\n",
      "Requirement already satisfied: huggingface-hub>=0.21.2 in /Users/harshshah/miniconda3/envs/eval/lib/python3.12/site-packages (from datasets->ragas->deepeval) (0.23.2)\n",
      "Requirement already satisfied: dataclasses-json<0.7,>=0.5.7 in /Users/harshshah/miniconda3/envs/eval/lib/python3.12/site-packages (from langchain-community->ragas->deepeval) (0.6.6)\n",
      "Requirement already satisfied: marshmallow<4.0.0,>=3.18.0 in /Users/harshshah/miniconda3/envs/eval/lib/python3.12/site-packages (from dataclasses-json<0.7,>=0.5.7->langchain-community->ragas->deepeval) (3.21.2)\n",
      "Requirement already satisfied: typing-inspect<1,>=0.4.0 in /Users/harshshah/miniconda3/envs/eval/lib/python3.12/site-packages (from dataclasses-json<0.7,>=0.5.7->langchain-community->ragas->deepeval) (0.9.0)\n",
      "Requirement already satisfied: httpcore==1.* in /Users/harshshah/miniconda3/envs/eval/lib/python3.12/site-packages (from httpx<1,>=0.23.0->openai<2.0.0,>=1.24.0->langchain-openai->deepeval) (1.0.5)\n",
      "Requirement already satisfied: h11<0.15,>=0.13 in /Users/harshshah/miniconda3/envs/eval/lib/python3.12/site-packages (from httpcore==1.*->httpx<1,>=0.23.0->openai<2.0.0,>=1.24.0->langchain-openai->deepeval) (0.14.0)\n",
      "Requirement already satisfied: python-dateutil>=2.8.2 in /Users/harshshah/miniconda3/envs/eval/lib/python3.12/site-packages (from pandas->datasets->ragas->deepeval) (2.9.0.post0)\n",
      "Requirement already satisfied: pytz>=2020.1 in /Users/harshshah/miniconda3/envs/eval/lib/python3.12/site-packages (from pandas->datasets->ragas->deepeval) (2024.1)\n",
      "Requirement already satisfied: tzdata>=2022.7 in /Users/harshshah/miniconda3/envs/eval/lib/python3.12/site-packages (from pandas->datasets->ragas->deepeval) (2024.1)\n",
      "Requirement already satisfied: six>=1.5 in /Users/harshshah/miniconda3/envs/eval/lib/python3.12/site-packages (from python-dateutil>=2.8.2->pandas->datasets->ragas->deepeval) (1.16.0)\n",
      "Requirement already satisfied: mypy-extensions>=0.3.0 in /Users/harshshah/miniconda3/envs/eval/lib/python3.12/site-packages (from typing-inspect<1,>=0.4.0->dataclasses-json<0.7,>=0.5.7->langchain-community->ragas->deepeval) (1.0.0)\n",
      "Requirement already satisfied: nltk in /Users/harshshah/miniconda3/envs/eval/lib/python3.12/site-packages (3.8.1)\n",
      "Requirement already satisfied: click in /Users/harshshah/miniconda3/envs/eval/lib/python3.12/site-packages (from nltk) (8.1.7)\n",
      "Requirement already satisfied: joblib in /Users/harshshah/miniconda3/envs/eval/lib/python3.12/site-packages (from nltk) (1.4.2)\n",
      "Requirement already satisfied: regex>=2021.8.3 in /Users/harshshah/miniconda3/envs/eval/lib/python3.12/site-packages (from nltk) (2024.5.15)\n",
      "Requirement already satisfied: tqdm in /Users/harshshah/miniconda3/envs/eval/lib/python3.12/site-packages (from nltk) (4.66.4)\n",
      "Requirement already satisfied: textstat in /Users/harshshah/miniconda3/envs/eval/lib/python3.12/site-packages (0.7.3)\n",
      "Requirement already satisfied: pyphen in /Users/harshshah/miniconda3/envs/eval/lib/python3.12/site-packages (from textstat) (0.15.0)\n"
     ]
    },
    {
     "name": "stderr",
     "output_type": "stream",
     "text": [
      "[nltk_data] Downloading package vader_lexicon to\n",
      "[nltk_data]     /Users/harshshah/nltk_data...\n",
      "[nltk_data]   Package vader_lexicon is already up-to-date!\n",
      "[nltk_data] Downloading package punkt to /Users/harshshah/nltk_data...\n",
      "[nltk_data]   Package punkt is already up-to-date!\n"
     ]
    },
    {
     "data": {
      "text/plain": [
       "True"
      ]
     },
     "execution_count": 5,
     "metadata": {},
     "output_type": "execute_result"
    }
   ],
   "source": [
    "!pip install -U deepeval\n",
    "!pip install nltk\n",
    "!pip install textstat\n",
    "\n",
    "import nltk  \n",
    "nltk.download('vader_lexicon')\n",
    "nltk.download('punkt')"
   ]
  },
  {
   "cell_type": "code",
   "execution_count": 3,
   "metadata": {},
   "outputs": [],
   "source": [
    "reference_details = \"\"\"Brand: Exilara  \n",
    "Model: Epsilon X9  \n",
    "Operating System: Android 11.0  \n",
    "Processor: Octa-core 3.2 GHz Cortex-A76  \n",
    "RAM: 8GB  \n",
    "Storage: 256GB (expandable up to 1TB)  \n",
    "Display: 6.7-inch Super AMOLED display  \n",
    "Resolution: 1440 x 3200 pixels  \n",
    "Camera: Quad-camera setup - 64MP (main) + 20MP (ultra-wide) + 8MP (telephoto) + 2MP (depth)  \n",
    "Front Camera: 32MP  \n",
    "Battery: 5,000mAh  \n",
    "Charging: Fast charging (up to 50% in 30 minutes)  \n",
    "Connectivity: 5G, Wi-Fi 6, Bluetooth 5.2  \n",
    "Security: In-display fingerprint sensor, Face unlock  \n",
    "Colors: Nebula Black, Stellar Blue, Aurora Pink  \n",
    "Additional Features: IP68 water and dust resistance, NFC support, USB Type-C, 3.5mm headphone jack\"\"\"\n",
    "\n",
    "blog_1 = \"\"\"Title:Introducing the Exilara Epsilon X9: Unleash the Power of Innovation  \n",
    "   \n",
    "We are unveil the latest addition to the Exilara family - the Exilara Epsilon X9. Packed with cutting-edge features and a sleek design, this mobile phone is set to revolutionize the way you experience technology. Let's dive into the captivating details and specifications of this incredible device.  \n",
    "   \n",
    "A Display That Transcends Realty:  \n",
    "Prepare to be mesmerized by the Exilara Epsilon X9's 6.7-inch Super AMOLED display. With a resolution of 1440 x 3200 pixels, every image and video comes to life with stunning clarity and vibrant colors. Whether you're browsing, gaming, or streaming your favorite content, this display will transport you to a world of visual excellence.  \n",
    "   \n",
    "Powerful Performance, Unmatched Speed:  \n",
    "Equipped with a blazing-fast Octa-core 3.2 GHz Cortex-A76 processor and 8GB of RAM, the Epsilon X9 ensures seamless multitasking and effortless performance. Run demanding apps, play graphics-intensive games, and switch between tasks effortlessly, all while maintaining optimal speed and efficiency.  \n",
    "   \n",
    "Ample Storage for All Your Needs:  \n",
    "Say goodbye to storage limitations with the Exilara Epsilon X9's generous 256GB internal storage. Need more space? Expand it up to a staggering 1TB, allowing you to store your entire digital world in the palm of your hand. Never worry about running out of space again.  \n",
    "   \n",
    "Capture Life's Moments in Stunning Detail:  \n",
    "The Exilra Epsilon X9 boasts a remarkable quad-camera setup, featuring a 64MP main lens, a 20MP ultra-wide lens, an 8MP telephoto lens, and a 2MP depth sensor. Capture breathtaking photos with incredible detail, and explore your creativity with various shooting modes and filters. On the front, a 32MP camera ensures your selfies are always picture-perfect.  \n",
    "   \n",
    "Long-Lasting Battery and Rapid Charging:  \n",
    "With a pwerful 5,000mAh battery, the Exilara Epsilon X9 keeps up with your busy lifestyle. Enjoy extended usage without worrying about frequent recharging. When you do need a boost, the fast charging capabilities will have you back up to 50% in just 30 minutes, ensuring you're always connected.  \n",
    "   \n",
    "Seamless Connectvity and Enhanced Security:  \n",
    "Stay connected to the world with 5G capabilities, Wi-Fi 6, and Bluetooth 5.2. The Exilara Epsilon X9 also features an in-display fingerprint sensor and face unlock technology, providing convenient and secure access to your device.  \n",
    "   \n",
    "Unparalleled Durability and Style:  \n",
    "The Epsilon X9 is dsigned to withstand the elements, thanks to its IP68 water and dust resistance. Choose from three stunning colors - Nebula Black, Stellar Blue, and Aurora Pink - and make a fashion statement wherever you go.  \n",
    "   \n",
    "The Exilara Epsilon X9 is more than just a mobile phone; it's a gateway to a world of possibilities. With its exceptional display, powerful performance, remarkable camera system, and long-lasting battery life, this device is a true game-changer. Embrace innovation, experience limitless possibilities, and unleash your full potential with the Exilara Epsilon X9.\n",
    "\n",
    "Get your hands on this amazing piece of technology by reaching out to us at get_epsilon@exilara.com!\n",
    "\"\"\""
   ]
  },
  {
   "cell_type": "code",
   "execution_count": 4,
   "metadata": {},
   "outputs": [],
   "source": [
    "from base_content import Content\n",
    "import pandas as pd"
   ]
  },
  {
   "cell_type": "code",
   "execution_count": 5,
   "metadata": {},
   "outputs": [
    {
     "name": "stdout",
     "output_type": "stream",
     "text": [
      "INFO : Additional Keywrod arguments passed. ALL keyword arguments will be appended to reference text\n",
      "Avoid irrelevant keyword arguments. This will ensure more stable evaluation\n"
     ]
    }
   ],
   "source": [
    "content = Content(generated_content=blog_1,\n",
    "                  reference_text=reference_details,\n",
    "                  content_type='blog',\n",
    "                  model='gpt-4o',\n",
    "                  target_keywords = 'Introducing the Exilara Epsilon X9')"
   ]
  },
  {
   "cell_type": "code",
   "execution_count": 6,
   "metadata": {},
   "outputs": [
    {
     "data": {
      "text/plain": [
       "{'overall_sentiment': 0.999,\n",
       " 'reading_ease': 45.76,\n",
       " 'word_count': 557,\n",
       " 'para_count': 2,\n",
       " 'sent_count': 26,\n",
       " 'words_per_sentence': 21.423076923076923,\n",
       " 'lexical_diversity': 0.5457809694793537}"
      ]
     },
     "execution_count": 6,
     "metadata": {},
     "output_type": "execute_result"
    }
   ],
   "source": [
    "content.get_statistical_metrics()"
   ]
  },
  {
   "cell_type": "code",
   "execution_count": 7,
   "metadata": {},
   "outputs": [
    {
     "data": {
      "text/plain": [
       "{'content_tone': 'Persuasive',\n",
       " 'content_topic': 'Introducing the Exilara Epsilon X9 mobile phone',\n",
       " 'suggested_keywords': ['Exilara Epsilon X9',\n",
       "  'mobile phone',\n",
       "  'cutting-edge features',\n",
       "  'Super AMOLED display',\n",
       "  'Octa-core processor',\n",
       "  '256GB internal storage',\n",
       "  'quad-camera setup',\n",
       "  '5G capabilities',\n",
       "  'IP68 water resistance'],\n",
       " 'search_queries': ['Exilara Epsilon X9 features',\n",
       "  'buy Exilara Epsilon X9',\n",
       "  'Exilara Epsilon X9 specifications',\n",
       "  'latest Exilara mobile phone']}"
      ]
     },
     "execution_count": 7,
     "metadata": {},
     "output_type": "execute_result"
    }
   ],
   "source": [
    "content.get_content_insights()"
   ]
  },
  {
   "cell_type": "code",
   "execution_count": 8,
   "metadata": {},
   "outputs": [
    {
     "data": {
      "application/vnd.jupyter.widget-view+json": {
       "model_id": "bfe10566c3a24829b51c00657528945b",
       "version_major": 2,
       "version_minor": 0
      },
      "text/plain": [
       "Output()"
      ]
     },
     "metadata": {},
     "output_type": "display_data"
    },
    {
     "data": {
      "text/html": [
       "<pre style=\"white-space:pre;overflow-x:auto;line-height:normal;font-family:Menlo,'DejaVu Sans Mono',consolas,'Courier New',monospace\"></pre>\n"
      ],
      "text/plain": []
     },
     "metadata": {},
     "output_type": "display_data"
    },
    {
     "data": {
      "text/html": [
       "<pre style=\"white-space:pre;overflow-x:auto;line-height:normal;font-family:Menlo,'DejaVu Sans Mono',consolas,'Courier New',monospace\">\n",
       "</pre>\n"
      ],
      "text/plain": [
       "\n"
      ]
     },
     "metadata": {},
     "output_type": "display_data"
    },
    {
     "data": {
      "application/vnd.jupyter.widget-view+json": {
       "model_id": "53562ed070d44a02afa3645f2daed359",
       "version_major": 2,
       "version_minor": 0
      },
      "text/plain": [
       "Output()"
      ]
     },
     "metadata": {},
     "output_type": "display_data"
    },
    {
     "data": {
      "text/html": [
       "<pre style=\"white-space:pre;overflow-x:auto;line-height:normal;font-family:Menlo,'DejaVu Sans Mono',consolas,'Courier New',monospace\">Event loop is already running. Applying nest_asyncio patch to allow async execution...\n",
       "</pre>\n"
      ],
      "text/plain": [
       "Event loop is already running. Applying nest_asyncio patch to allow async execution...\n"
      ]
     },
     "metadata": {},
     "output_type": "display_data"
    },
    {
     "data": {
      "text/html": [
       "<pre style=\"white-space:pre;overflow-x:auto;line-height:normal;font-family:Menlo,'DejaVu Sans Mono',consolas,'Courier New',monospace\"></pre>\n"
      ],
      "text/plain": []
     },
     "metadata": {},
     "output_type": "display_data"
    },
    {
     "data": {
      "text/html": [
       "<pre style=\"white-space:pre;overflow-x:auto;line-height:normal;font-family:Menlo,'DejaVu Sans Mono',consolas,'Courier New',monospace\">\n",
       "</pre>\n"
      ],
      "text/plain": [
       "\n"
      ]
     },
     "metadata": {},
     "output_type": "display_data"
    },
    {
     "data": {
      "application/vnd.jupyter.widget-view+json": {
       "model_id": "9658c0d7a3d04b3694fffb424c43ee22",
       "version_major": 2,
       "version_minor": 0
      },
      "text/plain": [
       "Output()"
      ]
     },
     "metadata": {},
     "output_type": "display_data"
    },
    {
     "name": "stdout",
     "output_type": "stream",
     "text": [
      "Event loop is already running. Applying nest_asyncio patch to allow async execution...\n"
     ]
    },
    {
     "data": {
      "text/html": [
       "<pre style=\"white-space:pre;overflow-x:auto;line-height:normal;font-family:Menlo,'DejaVu Sans Mono',consolas,'Courier New',monospace\"></pre>\n"
      ],
      "text/plain": []
     },
     "metadata": {},
     "output_type": "display_data"
    },
    {
     "data": {
      "text/html": [
       "<pre style=\"white-space:pre;overflow-x:auto;line-height:normal;font-family:Menlo,'DejaVu Sans Mono',consolas,'Courier New',monospace\">\n",
       "</pre>\n"
      ],
      "text/plain": [
       "\n"
      ]
     },
     "metadata": {},
     "output_type": "display_data"
    },
    {
     "name": "stderr",
     "output_type": "stream",
     "text": [
      "/Users/harshshah/miniconda3/envs/eval/lib/python3.12/site-packages/portalocker/utils.py:218: UserWarning: timeout has no effect in blocking mode\n",
      "  warnings.warn(\n"
     ]
    },
    {
     "data": {
      "text/html": [
       "<pre style=\"white-space:pre;overflow-x:auto;line-height:normal;font-family:Menlo,'DejaVu Sans Mono',consolas,'Courier New',monospace\">✅ Tests finished! Run <span style=\"color: #008000; text-decoration-color: #008000\">\"deepeval login\"</span> to view evaluation results on the web.\n",
       "</pre>\n"
      ],
      "text/plain": [
       "✅ Tests finished! Run \u001b[32m\"deepeval login\"\u001b[0m to view evaluation results on the web.\n"
      ]
     },
     "metadata": {},
     "output_type": "display_data"
    },
    {
     "data": {
      "application/vnd.jupyter.widget-view+json": {
       "model_id": "1ae94103e694489c8085c77297706048",
       "version_major": 2,
       "version_minor": 0
      },
      "text/plain": [
       "Output()"
      ]
     },
     "metadata": {},
     "output_type": "display_data"
    },
    {
     "name": "stdout",
     "output_type": "stream",
     "text": [
      "Event loop is already running. Applying nest_asyncio patch to allow async execution...\n"
     ]
    },
    {
     "data": {
      "text/html": [
       "<pre style=\"white-space:pre;overflow-x:auto;line-height:normal;font-family:Menlo,'DejaVu Sans Mono',consolas,'Courier New',monospace\"></pre>\n"
      ],
      "text/plain": []
     },
     "metadata": {},
     "output_type": "display_data"
    },
    {
     "data": {
      "text/html": [
       "<pre style=\"white-space:pre;overflow-x:auto;line-height:normal;font-family:Menlo,'DejaVu Sans Mono',consolas,'Courier New',monospace\">\n",
       "</pre>\n"
      ],
      "text/plain": [
       "\n"
      ]
     },
     "metadata": {},
     "output_type": "display_data"
    },
    {
     "data": {
      "text/html": [
       "<pre style=\"white-space:pre;overflow-x:auto;line-height:normal;font-family:Menlo,'DejaVu Sans Mono',consolas,'Courier New',monospace\">✅ Tests finished! Run <span style=\"color: #008000; text-decoration-color: #008000\">\"deepeval login\"</span> to view evaluation results on the web.\n",
       "</pre>\n"
      ],
      "text/plain": [
       "✅ Tests finished! Run \u001b[32m\"deepeval login\"\u001b[0m to view evaluation results on the web.\n"
      ]
     },
     "metadata": {},
     "output_type": "display_data"
    }
   ],
   "source": [
    "res = content.get_llm_metrics()\n",
    "res_df = pd.DataFrame.from_dict(res,orient='index').reset_index()"
   ]
  },
  {
   "cell_type": "code",
   "execution_count": 9,
   "metadata": {},
   "outputs": [
    {
     "data": {
      "text/html": [
       "<div>\n",
       "<style scoped>\n",
       "    .dataframe tbody tr th:only-of-type {\n",
       "        vertical-align: middle;\n",
       "    }\n",
       "\n",
       "    .dataframe tbody tr th {\n",
       "        vertical-align: top;\n",
       "    }\n",
       "\n",
       "    .dataframe thead th {\n",
       "        text-align: right;\n",
       "    }\n",
       "</style>\n",
       "<table border=\"1\" class=\"dataframe\">\n",
       "  <thead>\n",
       "    <tr style=\"text-align: right;\">\n",
       "      <th></th>\n",
       "      <th>index</th>\n",
       "      <th>score</th>\n",
       "      <th>reason</th>\n",
       "    </tr>\n",
       "  </thead>\n",
       "  <tbody>\n",
       "    <tr>\n",
       "      <th>0</th>\n",
       "      <td>Hallucination Score</td>\n",
       "      <td>0.000000</td>\n",
       "      <td>The score is 0.00 because there are no factual...</td>\n",
       "    </tr>\n",
       "    <tr>\n",
       "      <th>1</th>\n",
       "      <td>Faithfulness Score</td>\n",
       "      <td>1.000000</td>\n",
       "      <td>The score is 1.00 because there are no contrad...</td>\n",
       "    </tr>\n",
       "    <tr>\n",
       "      <th>2</th>\n",
       "      <td>Factual Coverage</td>\n",
       "      <td>0.877904</td>\n",
       "      <td>The actual output includes almost all key deta...</td>\n",
       "    </tr>\n",
       "    <tr>\n",
       "      <th>3</th>\n",
       "      <td>Keyword Usage</td>\n",
       "      <td>0.880100</td>\n",
       "      <td>The title includes the target keywords 'Introd...</td>\n",
       "    </tr>\n",
       "    <tr>\n",
       "      <th>4</th>\n",
       "      <td>Readability Score</td>\n",
       "      <td>0.738215</td>\n",
       "      <td>The text uses some complex vocabulary like 'tr...</td>\n",
       "    </tr>\n",
       "    <tr>\n",
       "      <th>5</th>\n",
       "      <td>Cohesiveness</td>\n",
       "      <td>0.783891</td>\n",
       "      <td>The structure is clear and logical, with each ...</td>\n",
       "    </tr>\n",
       "    <tr>\n",
       "      <th>6</th>\n",
       "      <td>Structure Score</td>\n",
       "      <td>0.847769</td>\n",
       "      <td>The output uses appropriate headings and maint...</td>\n",
       "    </tr>\n",
       "    <tr>\n",
       "      <th>7</th>\n",
       "      <td>Mobile Optimization</td>\n",
       "      <td>0.244523</td>\n",
       "      <td>The actual output does not provide any informa...</td>\n",
       "    </tr>\n",
       "    <tr>\n",
       "      <th>8</th>\n",
       "      <td>Image Optimization</td>\n",
       "      <td>0.000000</td>\n",
       "      <td>The text does not include any images or alt te...</td>\n",
       "    </tr>\n",
       "    <tr>\n",
       "      <th>9</th>\n",
       "      <td>Social Sharing Potential</td>\n",
       "      <td>0.000000</td>\n",
       "      <td>The actual output does not include any social ...</td>\n",
       "    </tr>\n",
       "    <tr>\n",
       "      <th>10</th>\n",
       "      <td>Content Depth and Relevance</td>\n",
       "      <td>0.840715</td>\n",
       "      <td>The output is comprehensive, covering display,...</td>\n",
       "    </tr>\n",
       "    <tr>\n",
       "      <th>11</th>\n",
       "      <td>Audience Engagement Potential</td>\n",
       "      <td>0.215932</td>\n",
       "      <td>The output lacks questions and interactive ele...</td>\n",
       "    </tr>\n",
       "  </tbody>\n",
       "</table>\n",
       "</div>"
      ],
      "text/plain": [
       "                            index     score  \\\n",
       "0             Hallucination Score  0.000000   \n",
       "1              Faithfulness Score  1.000000   \n",
       "2                Factual Coverage  0.877904   \n",
       "3                   Keyword Usage  0.880100   \n",
       "4               Readability Score  0.738215   \n",
       "5                    Cohesiveness  0.783891   \n",
       "6                 Structure Score  0.847769   \n",
       "7             Mobile Optimization  0.244523   \n",
       "8              Image Optimization  0.000000   \n",
       "9        Social Sharing Potential  0.000000   \n",
       "10    Content Depth and Relevance  0.840715   \n",
       "11  Audience Engagement Potential  0.215932   \n",
       "\n",
       "                                               reason  \n",
       "0   The score is 0.00 because there are no factual...  \n",
       "1   The score is 1.00 because there are no contrad...  \n",
       "2   The actual output includes almost all key deta...  \n",
       "3   The title includes the target keywords 'Introd...  \n",
       "4   The text uses some complex vocabulary like 'tr...  \n",
       "5   The structure is clear and logical, with each ...  \n",
       "6   The output uses appropriate headings and maint...  \n",
       "7   The actual output does not provide any informa...  \n",
       "8   The text does not include any images or alt te...  \n",
       "9   The actual output does not include any social ...  \n",
       "10  The output is comprehensive, covering display,...  \n",
       "11  The output lacks questions and interactive ele...  "
      ]
     },
     "execution_count": 9,
     "metadata": {},
     "output_type": "execute_result"
    }
   ],
   "source": [
    "res_df"
   ]
  },
  {
   "cell_type": "code",
   "execution_count": 10,
   "metadata": {},
   "outputs": [],
   "source": [
    "blog_improved = \"\"\"Title: Meet the New Game Changer: Exilara Epsilon X9 - Innovation at Your Fingertips  \n",
    "   \n",
    "Welcome to the future of mobile technology with the latest entrant to the Exilara family, the Exilara Epsilon X9! This mobile marvel combines the latest tech and sleek design, poised to redefine your digital experience. Here's a closer look at what makes this device so special.  \n",
    "   \n",
    "[Alt Image: Exilara Epsilon X9 with its stunning display]  \n",
    "   \n",
    "Experience a Visual Feast:  \n",
    "The Exilara Epsilon X9 boasts a 6.7-inch Super AMOLED display, transforming every image and video into an immersive visual journey. With a resolution of 1440 x 3200 pixels, your favorite content will come alive in your hands, whether you're gaming, browsing, or streaming.  \n",
    "   \n",
    "[Alt Image: Exilara Epsilon X9 showcasing its high-resolution display]  \n",
    "   \n",
    "Unleash Power and Speed:  \n",
    "This device is a powerhouse, thanks to an Octa-core 3.2 GHz Cortex-A76 processor coupled with 8GB RAM. It promises smooth multitasking and exceptional performance. Run heavy apps, enjoy graphic-rich games, and switch tasks with an unmatched fluidity.  \n",
    "   \n",
    "[Alt Image: Exilara Epsilon X9 demonstrating its high-speed performance]  \n",
    "   \n",
    "Store More, Worry Less:  \n",
    "Wave goodbye to storage woes! The Epsilon X9 offers 256GB internal storage, expandable up to a massive 1TB. Keep your entire digital universe within reach, without worrying about running out of space.  \n",
    "   \n",
    "[Alt Image: Exilara Epsilon X9 highlighting its ample storage]  \n",
    "   \n",
    "Capture the World in High-Definition:  \n",
    "The Epsilon X9 stands out with a stunning quad-camera setup. With a 64MP main lens, a 20MP ultra-wide lens, an 8MP telephoto lens, and a 2MP depth sensor, you can capture life's moments in extraordinary detail. Plus, a 32MP front camera promises perfect selfies every time.  \n",
    "   \n",
    "[Alt Image: Exilara Epsilon X9 flaunting its camera features]  \n",
    "   \n",
    "Battery That Stays, Charges Fast:  \n",
    "A robust 5,000mAh battery powers the Epsilon X9, ensuring you're always in action. Need a quick recharge? Its fast charging feature can take you to 50% in just 30 minutes.  \n",
    "   \n",
    "[Alt Image: Exilara Epsilon X9 showcasing its fast-charging feature]  \n",
    "   \n",
    "Stay Connected, Stay Secure:  \n",
    "With 5G, Wi-Fi 6, and Bluetooth 5.2, you're always connected. Plus, an in-display fingerprint sensor and face unlock provide quick and secure access to your device.  \n",
    "   \n",
    "[Alt Image: Exilara Epsilon X9 emphasizing its connectivity and security features]  \n",
    "   \n",
    "A Style Statement That's Tough:  \n",
    "The Epsilon X9 offers IP68 water and dust resistance, ensuring durability. Choose from Nebula Black, Stellar Blue, and Aurora Pink to reflect your style.  \n",
    "   \n",
    "[Alt Image: Exilara Epsilon X9 available in three colors]  \n",
    "   \n",
    "The Exilara Epsilon X9 is not just a phone; it's your portal to limitless possibilities. From an exceptional display and powerful performance to a remarkable camera and long battery life, it's a true game-changer.  \n",
    "   \n",
    "Ready to experience the future? Get your Exilara Epsilon X9 by reaching out to us at get_epsilon@exilara.com!  \n",
    "   \n",
    "Don't forget to share your excitement on social media using #ExilaraEpsilonX9 #GameChanger #TechInnovation!\"\"\""
   ]
  },
  {
   "cell_type": "code",
   "execution_count": 13,
   "metadata": {},
   "outputs": [
    {
     "name": "stdout",
     "output_type": "stream",
     "text": [
      "INFO : Additional Keywrod arguments passed. ALL keyword arguments will be appended to reference text\n",
      "Avoid irrelevant keyword arguments. This will ensure more stable evaluation\n"
     ]
    }
   ],
   "source": [
    "content_2 = Content(generated_content=blog_improved,\n",
    "                  reference_text=reference_details,\n",
    "                  content_type='blog',\n",
    "                  model='gpt-4o',\n",
    "                  target_keywords = 'Introducing the Exilara Epsilon X9')"
   ]
  },
  {
   "cell_type": "code",
   "execution_count": 14,
   "metadata": {},
   "outputs": [
    {
     "data": {
      "application/vnd.jupyter.widget-view+json": {
       "model_id": "674cab545b7042ae831633555dacdc9c",
       "version_major": 2,
       "version_minor": 0
      },
      "text/plain": [
       "Output()"
      ]
     },
     "metadata": {},
     "output_type": "display_data"
    },
    {
     "data": {
      "text/html": [
       "<pre style=\"white-space:pre;overflow-x:auto;line-height:normal;font-family:Menlo,'DejaVu Sans Mono',consolas,'Courier New',monospace\"></pre>\n"
      ],
      "text/plain": []
     },
     "metadata": {},
     "output_type": "display_data"
    },
    {
     "data": {
      "text/html": [
       "<pre style=\"white-space:pre;overflow-x:auto;line-height:normal;font-family:Menlo,'DejaVu Sans Mono',consolas,'Courier New',monospace\">\n",
       "</pre>\n"
      ],
      "text/plain": [
       "\n"
      ]
     },
     "metadata": {},
     "output_type": "display_data"
    },
    {
     "data": {
      "application/vnd.jupyter.widget-view+json": {
       "model_id": "4366b535b0664f65bc0f033a8aa19885",
       "version_major": 2,
       "version_minor": 0
      },
      "text/plain": [
       "Output()"
      ]
     },
     "metadata": {},
     "output_type": "display_data"
    },
    {
     "data": {
      "text/html": [
       "<pre style=\"white-space:pre;overflow-x:auto;line-height:normal;font-family:Menlo,'DejaVu Sans Mono',consolas,'Courier New',monospace\">Event loop is already running. Applying nest_asyncio patch to allow async execution...\n",
       "</pre>\n"
      ],
      "text/plain": [
       "Event loop is already running. Applying nest_asyncio patch to allow async execution...\n"
      ]
     },
     "metadata": {},
     "output_type": "display_data"
    },
    {
     "data": {
      "text/html": [
       "<pre style=\"white-space:pre;overflow-x:auto;line-height:normal;font-family:Menlo,'DejaVu Sans Mono',consolas,'Courier New',monospace\"></pre>\n"
      ],
      "text/plain": []
     },
     "metadata": {},
     "output_type": "display_data"
    },
    {
     "data": {
      "text/html": [
       "<pre style=\"white-space:pre;overflow-x:auto;line-height:normal;font-family:Menlo,'DejaVu Sans Mono',consolas,'Courier New',monospace\">\n",
       "</pre>\n"
      ],
      "text/plain": [
       "\n"
      ]
     },
     "metadata": {},
     "output_type": "display_data"
    },
    {
     "data": {
      "application/vnd.jupyter.widget-view+json": {
       "model_id": "6cd0d71b44234101b28cc6f95728dafb",
       "version_major": 2,
       "version_minor": 0
      },
      "text/plain": [
       "Output()"
      ]
     },
     "metadata": {},
     "output_type": "display_data"
    },
    {
     "name": "stdout",
     "output_type": "stream",
     "text": [
      "Event loop is already running. Applying nest_asyncio patch to allow async execution...\n"
     ]
    },
    {
     "data": {
      "text/html": [
       "<pre style=\"white-space:pre;overflow-x:auto;line-height:normal;font-family:Menlo,'DejaVu Sans Mono',consolas,'Courier New',monospace\"></pre>\n"
      ],
      "text/plain": []
     },
     "metadata": {},
     "output_type": "display_data"
    },
    {
     "data": {
      "text/html": [
       "<pre style=\"white-space:pre;overflow-x:auto;line-height:normal;font-family:Menlo,'DejaVu Sans Mono',consolas,'Courier New',monospace\">\n",
       "</pre>\n"
      ],
      "text/plain": [
       "\n"
      ]
     },
     "metadata": {},
     "output_type": "display_data"
    },
    {
     "name": "stderr",
     "output_type": "stream",
     "text": [
      "/Users/harshshah/miniconda3/envs/eval/lib/python3.12/site-packages/portalocker/utils.py:218: UserWarning: timeout has no effect in blocking mode\n",
      "  warnings.warn(\n"
     ]
    },
    {
     "data": {
      "text/html": [
       "<pre style=\"white-space:pre;overflow-x:auto;line-height:normal;font-family:Menlo,'DejaVu Sans Mono',consolas,'Courier New',monospace\">✅ Tests finished! Run <span style=\"color: #008000; text-decoration-color: #008000\">\"deepeval login\"</span> to view evaluation results on the web.\n",
       "</pre>\n"
      ],
      "text/plain": [
       "✅ Tests finished! Run \u001b[32m\"deepeval login\"\u001b[0m to view evaluation results on the web.\n"
      ]
     },
     "metadata": {},
     "output_type": "display_data"
    },
    {
     "data": {
      "application/vnd.jupyter.widget-view+json": {
       "model_id": "1abe5bd381d243c296e32e1cf89b3304",
       "version_major": 2,
       "version_minor": 0
      },
      "text/plain": [
       "Output()"
      ]
     },
     "metadata": {},
     "output_type": "display_data"
    },
    {
     "name": "stdout",
     "output_type": "stream",
     "text": [
      "Event loop is already running. Applying nest_asyncio patch to allow async execution...\n"
     ]
    },
    {
     "data": {
      "text/html": [
       "<pre style=\"white-space:pre;overflow-x:auto;line-height:normal;font-family:Menlo,'DejaVu Sans Mono',consolas,'Courier New',monospace\"></pre>\n"
      ],
      "text/plain": []
     },
     "metadata": {},
     "output_type": "display_data"
    },
    {
     "data": {
      "text/html": [
       "<pre style=\"white-space:pre;overflow-x:auto;line-height:normal;font-family:Menlo,'DejaVu Sans Mono',consolas,'Courier New',monospace\">\n",
       "</pre>\n"
      ],
      "text/plain": [
       "\n"
      ]
     },
     "metadata": {},
     "output_type": "display_data"
    },
    {
     "data": {
      "text/html": [
       "<pre style=\"white-space:pre;overflow-x:auto;line-height:normal;font-family:Menlo,'DejaVu Sans Mono',consolas,'Courier New',monospace\">✅ Tests finished! Run <span style=\"color: #008000; text-decoration-color: #008000\">\"deepeval login\"</span> to view evaluation results on the web.\n",
       "</pre>\n"
      ],
      "text/plain": [
       "✅ Tests finished! Run \u001b[32m\"deepeval login\"\u001b[0m to view evaluation results on the web.\n"
      ]
     },
     "metadata": {},
     "output_type": "display_data"
    }
   ],
   "source": [
    "new_res = content_2.get_llm_metrics()\n",
    "new_res_df = pd.DataFrame.from_dict(new_res, orient='index').reset_index()"
   ]
  },
  {
   "cell_type": "code",
   "execution_count": 15,
   "metadata": {},
   "outputs": [
    {
     "data": {
      "text/html": [
       "<div>\n",
       "<style scoped>\n",
       "    .dataframe tbody tr th:only-of-type {\n",
       "        vertical-align: middle;\n",
       "    }\n",
       "\n",
       "    .dataframe tbody tr th {\n",
       "        vertical-align: top;\n",
       "    }\n",
       "\n",
       "    .dataframe thead th {\n",
       "        text-align: right;\n",
       "    }\n",
       "</style>\n",
       "<table border=\"1\" class=\"dataframe\">\n",
       "  <thead>\n",
       "    <tr style=\"text-align: right;\">\n",
       "      <th></th>\n",
       "      <th>index</th>\n",
       "      <th>score</th>\n",
       "      <th>reason</th>\n",
       "    </tr>\n",
       "  </thead>\n",
       "  <tbody>\n",
       "    <tr>\n",
       "      <th>0</th>\n",
       "      <td>Hallucination Score</td>\n",
       "      <td>0.000000</td>\n",
       "      <td>The score is 0.00 because there are no factual...</td>\n",
       "    </tr>\n",
       "    <tr>\n",
       "      <th>1</th>\n",
       "      <td>Faithfulness Score</td>\n",
       "      <td>1.000000</td>\n",
       "      <td>The score is 1.00 because there are no contrad...</td>\n",
       "    </tr>\n",
       "    <tr>\n",
       "      <th>2</th>\n",
       "      <td>Factual Coverage</td>\n",
       "      <td>0.866774</td>\n",
       "      <td>The actual output covers almost all key detail...</td>\n",
       "    </tr>\n",
       "    <tr>\n",
       "      <th>3</th>\n",
       "      <td>Keyword Usage</td>\n",
       "      <td>0.711417</td>\n",
       "      <td>The title does not include the exact target ke...</td>\n",
       "    </tr>\n",
       "    <tr>\n",
       "      <th>4</th>\n",
       "      <td>Readability Score</td>\n",
       "      <td>0.867918</td>\n",
       "      <td>The text uses mostly simple vocabulary and mai...</td>\n",
       "    </tr>\n",
       "    <tr>\n",
       "      <th>5</th>\n",
       "      <td>Cohesiveness</td>\n",
       "      <td>0.970579</td>\n",
       "      <td>The text has a clear and logical structure, wi...</td>\n",
       "    </tr>\n",
       "    <tr>\n",
       "      <th>6</th>\n",
       "      <td>Structure Score</td>\n",
       "      <td>0.940733</td>\n",
       "      <td>The output uses appropriate headings to segmen...</td>\n",
       "    </tr>\n",
       "    <tr>\n",
       "      <th>7</th>\n",
       "      <td>Mobile Optimization</td>\n",
       "      <td>0.417706</td>\n",
       "      <td>The content is visually appealing and informat...</td>\n",
       "    </tr>\n",
       "    <tr>\n",
       "      <th>8</th>\n",
       "      <td>Image Optimization</td>\n",
       "      <td>0.744592</td>\n",
       "      <td>Images have alt text with relevant keywords, b...</td>\n",
       "    </tr>\n",
       "    <tr>\n",
       "      <th>9</th>\n",
       "      <td>Social Sharing Potential</td>\n",
       "      <td>0.072261</td>\n",
       "      <td>The actual output does not include social shar...</td>\n",
       "    </tr>\n",
       "    <tr>\n",
       "      <th>10</th>\n",
       "      <td>Content Depth and Relevance</td>\n",
       "      <td>0.929421</td>\n",
       "      <td>The output is comprehensive, covering display,...</td>\n",
       "    </tr>\n",
       "    <tr>\n",
       "      <th>11</th>\n",
       "      <td>Audience Engagement Potential</td>\n",
       "      <td>0.367325</td>\n",
       "      <td>The output lacks questions and interactive ele...</td>\n",
       "    </tr>\n",
       "  </tbody>\n",
       "</table>\n",
       "</div>"
      ],
      "text/plain": [
       "                            index     score  \\\n",
       "0             Hallucination Score  0.000000   \n",
       "1              Faithfulness Score  1.000000   \n",
       "2                Factual Coverage  0.866774   \n",
       "3                   Keyword Usage  0.711417   \n",
       "4               Readability Score  0.867918   \n",
       "5                    Cohesiveness  0.970579   \n",
       "6                 Structure Score  0.940733   \n",
       "7             Mobile Optimization  0.417706   \n",
       "8              Image Optimization  0.744592   \n",
       "9        Social Sharing Potential  0.072261   \n",
       "10    Content Depth and Relevance  0.929421   \n",
       "11  Audience Engagement Potential  0.367325   \n",
       "\n",
       "                                               reason  \n",
       "0   The score is 0.00 because there are no factual...  \n",
       "1   The score is 1.00 because there are no contrad...  \n",
       "2   The actual output covers almost all key detail...  \n",
       "3   The title does not include the exact target ke...  \n",
       "4   The text uses mostly simple vocabulary and mai...  \n",
       "5   The text has a clear and logical structure, wi...  \n",
       "6   The output uses appropriate headings to segmen...  \n",
       "7   The content is visually appealing and informat...  \n",
       "8   Images have alt text with relevant keywords, b...  \n",
       "9   The actual output does not include social shar...  \n",
       "10  The output is comprehensive, covering display,...  \n",
       "11  The output lacks questions and interactive ele...  "
      ]
     },
     "execution_count": 15,
     "metadata": {},
     "output_type": "execute_result"
    }
   ],
   "source": [
    "new_res_df"
   ]
  },
  {
   "cell_type": "code",
   "execution_count": 16,
   "metadata": {},
   "outputs": [],
   "source": [
    "comparision_df = res_df.merge(new_res_df, on='index', suffixes=('_old','_new'))"
   ]
  },
  {
   "cell_type": "code",
   "execution_count": 19,
   "metadata": {},
   "outputs": [
    {
     "data": {
      "text/html": [
       "<div>\n",
       "<style scoped>\n",
       "    .dataframe tbody tr th:only-of-type {\n",
       "        vertical-align: middle;\n",
       "    }\n",
       "\n",
       "    .dataframe tbody tr th {\n",
       "        vertical-align: top;\n",
       "    }\n",
       "\n",
       "    .dataframe thead th {\n",
       "        text-align: right;\n",
       "    }\n",
       "</style>\n",
       "<table border=\"1\" class=\"dataframe\">\n",
       "  <thead>\n",
       "    <tr style=\"text-align: right;\">\n",
       "      <th></th>\n",
       "      <th>index</th>\n",
       "      <th>score_old</th>\n",
       "      <th>reason_old</th>\n",
       "      <th>score_new</th>\n",
       "      <th>reason_new</th>\n",
       "    </tr>\n",
       "  </thead>\n",
       "  <tbody>\n",
       "    <tr>\n",
       "      <th>0</th>\n",
       "      <td>Hallucination Score</td>\n",
       "      <td>0.000000</td>\n",
       "      <td>The score is 0.00 because there are no factual...</td>\n",
       "      <td>0.000000</td>\n",
       "      <td>The score is 0.00 because there are no factual...</td>\n",
       "    </tr>\n",
       "    <tr>\n",
       "      <th>1</th>\n",
       "      <td>Faithfulness Score</td>\n",
       "      <td>1.000000</td>\n",
       "      <td>The score is 1.00 because there are no contrad...</td>\n",
       "      <td>1.000000</td>\n",
       "      <td>The score is 1.00 because there are no contrad...</td>\n",
       "    </tr>\n",
       "    <tr>\n",
       "      <th>4</th>\n",
       "      <td>Readability Score</td>\n",
       "      <td>0.738215</td>\n",
       "      <td>The text uses some complex vocabulary like 'tr...</td>\n",
       "      <td>0.867918</td>\n",
       "      <td>The text uses mostly simple vocabulary and mai...</td>\n",
       "    </tr>\n",
       "    <tr>\n",
       "      <th>5</th>\n",
       "      <td>Cohesiveness</td>\n",
       "      <td>0.783891</td>\n",
       "      <td>The structure is clear and logical, with each ...</td>\n",
       "      <td>0.970579</td>\n",
       "      <td>The text has a clear and logical structure, wi...</td>\n",
       "    </tr>\n",
       "    <tr>\n",
       "      <th>6</th>\n",
       "      <td>Structure Score</td>\n",
       "      <td>0.847769</td>\n",
       "      <td>The output uses appropriate headings and maint...</td>\n",
       "      <td>0.940733</td>\n",
       "      <td>The output uses appropriate headings to segmen...</td>\n",
       "    </tr>\n",
       "    <tr>\n",
       "      <th>7</th>\n",
       "      <td>Mobile Optimization</td>\n",
       "      <td>0.244523</td>\n",
       "      <td>The actual output does not provide any informa...</td>\n",
       "      <td>0.417706</td>\n",
       "      <td>The content is visually appealing and informat...</td>\n",
       "    </tr>\n",
       "    <tr>\n",
       "      <th>8</th>\n",
       "      <td>Image Optimization</td>\n",
       "      <td>0.000000</td>\n",
       "      <td>The text does not include any images or alt te...</td>\n",
       "      <td>0.744592</td>\n",
       "      <td>Images have alt text with relevant keywords, b...</td>\n",
       "    </tr>\n",
       "    <tr>\n",
       "      <th>9</th>\n",
       "      <td>Social Sharing Potential</td>\n",
       "      <td>0.000000</td>\n",
       "      <td>The actual output does not include any social ...</td>\n",
       "      <td>0.072261</td>\n",
       "      <td>The actual output does not include social shar...</td>\n",
       "    </tr>\n",
       "    <tr>\n",
       "      <th>10</th>\n",
       "      <td>Content Depth and Relevance</td>\n",
       "      <td>0.840715</td>\n",
       "      <td>The output is comprehensive, covering display,...</td>\n",
       "      <td>0.929421</td>\n",
       "      <td>The output is comprehensive, covering display,...</td>\n",
       "    </tr>\n",
       "    <tr>\n",
       "      <th>11</th>\n",
       "      <td>Audience Engagement Potential</td>\n",
       "      <td>0.215932</td>\n",
       "      <td>The output lacks questions and interactive ele...</td>\n",
       "      <td>0.367325</td>\n",
       "      <td>The output lacks questions and interactive ele...</td>\n",
       "    </tr>\n",
       "  </tbody>\n",
       "</table>\n",
       "</div>"
      ],
      "text/plain": [
       "                            index  score_old  \\\n",
       "0             Hallucination Score   0.000000   \n",
       "1              Faithfulness Score   1.000000   \n",
       "4               Readability Score   0.738215   \n",
       "5                    Cohesiveness   0.783891   \n",
       "6                 Structure Score   0.847769   \n",
       "7             Mobile Optimization   0.244523   \n",
       "8              Image Optimization   0.000000   \n",
       "9        Social Sharing Potential   0.000000   \n",
       "10    Content Depth and Relevance   0.840715   \n",
       "11  Audience Engagement Potential   0.215932   \n",
       "\n",
       "                                           reason_old  score_new  \\\n",
       "0   The score is 0.00 because there are no factual...   0.000000   \n",
       "1   The score is 1.00 because there are no contrad...   1.000000   \n",
       "4   The text uses some complex vocabulary like 'tr...   0.867918   \n",
       "5   The structure is clear and logical, with each ...   0.970579   \n",
       "6   The output uses appropriate headings and maint...   0.940733   \n",
       "7   The actual output does not provide any informa...   0.417706   \n",
       "8   The text does not include any images or alt te...   0.744592   \n",
       "9   The actual output does not include any social ...   0.072261   \n",
       "10  The output is comprehensive, covering display,...   0.929421   \n",
       "11  The output lacks questions and interactive ele...   0.367325   \n",
       "\n",
       "                                           reason_new  \n",
       "0   The score is 0.00 because there are no factual...  \n",
       "1   The score is 1.00 because there are no contrad...  \n",
       "4   The text uses mostly simple vocabulary and mai...  \n",
       "5   The text has a clear and logical structure, wi...  \n",
       "6   The output uses appropriate headings to segmen...  \n",
       "7   The content is visually appealing and informat...  \n",
       "8   Images have alt text with relevant keywords, b...  \n",
       "9   The actual output does not include social shar...  \n",
       "10  The output is comprehensive, covering display,...  \n",
       "11  The output lacks questions and interactive ele...  "
      ]
     },
     "execution_count": 19,
     "metadata": {},
     "output_type": "execute_result"
    }
   ],
   "source": [
    "comparision_df[comparision_df['score_new']>=comparision_df['score_old']]"
   ]
  },
  {
   "cell_type": "code",
   "execution_count": 20,
   "metadata": {},
   "outputs": [
    {
     "name": "stdout",
     "output_type": "stream",
     "text": [
      "INFO : Additional Keywrod arguments passed. ALL keyword arguments will be appended to reference text\n",
      "Avoid irrelevant keyword arguments. This will ensure more stable evaluation\n"
     ]
    },
    {
     "data": {
      "text/plain": [
       "{'overall_sentiment': 0.97855,\n",
       " 'reading_ease': 51.85,\n",
       " 'word_count': 91,\n",
       " 'para_count': 1,\n",
       " 'sent_count': 6,\n",
       " 'words_per_sentence': 15.166666666666666,\n",
       " 'lexical_diversity': 0.7802197802197802}"
      ]
     },
     "execution_count": 20,
     "metadata": {},
     "output_type": "execute_result"
    }
   ],
   "source": [
    "from base_content import Content\n",
    "\n",
    "reference_details = \"Product: VisionX Immersion VR Headset Display: Dual 4K OLED FOV: 200° Tracking: 6DOF inside-out Connectivity: WiFi 6, Bluetooth 5.2, USB-C\"\n",
    "blog = \"\"\"Exciting news for VR enthusiasts! We're thrilled to introduce the VisionX Immersion VR Headset, redefining your virtual reality experience. With dual 4K OLED display panels, this headset promises crystal-clear visuals. A standout feature is its 200° FOV and advanced 6DOF inside-out tracking system, bringing your VR world to life like never before. To top it off, it supports WiFi 6, Bluetooth 5.2, and USB-C connectivity, promising a seamless and immersive VR experience. Stay tuned for more updates!\"\"\"\n",
    "\n",
    "content = Content(generated_content=blog,\n",
    "                  reference_text=reference_details,\n",
    "                  content_type='blog',\n",
    "                  model='gpt-4o',\n",
    "                  target_keywords = 'VisionX latest VR')\n",
    "\n",
    "content.get_statistical_metrics()"
   ]
  },
  {
   "cell_type": "code",
   "execution_count": 21,
   "metadata": {},
   "outputs": [
    {
     "data": {
      "text/plain": [
       "{'content_tone': 'Exciting',\n",
       " 'content_topic': 'VisionX Immersion VR Headset launch',\n",
       " 'suggested_keywords': ['VR headset',\n",
       "  'VisionX Immersion',\n",
       "  '4K OLED display',\n",
       "  '200° FOV',\n",
       "  '6DOF tracking',\n",
       "  'WiFi 6',\n",
       "  'Bluetooth 5.2',\n",
       "  'USB-C connectivity',\n",
       "  'virtual reality experience'],\n",
       " 'search_queries': ['new VR headset 2023',\n",
       "  'VisionX Immersion VR Headset features',\n",
       "  'best VR headsets with 4K display',\n",
       "  'VR headset with 200° FOV and 6DOF tracking']}"
      ]
     },
     "execution_count": 21,
     "metadata": {},
     "output_type": "execute_result"
    }
   ],
   "source": [
    "content.get_content_insights()"
   ]
  },
  {
   "cell_type": "code",
   "execution_count": 22,
   "metadata": {},
   "outputs": [
    {
     "data": {
      "application/vnd.jupyter.widget-view+json": {
       "model_id": "4d5e53cdae7b4c6c9a82ffe8e3e35eb8",
       "version_major": 2,
       "version_minor": 0
      },
      "text/plain": [
       "Output()"
      ]
     },
     "metadata": {},
     "output_type": "display_data"
    },
    {
     "data": {
      "text/html": [
       "<pre style=\"white-space:pre;overflow-x:auto;line-height:normal;font-family:Menlo,'DejaVu Sans Mono',consolas,'Courier New',monospace\"></pre>\n"
      ],
      "text/plain": []
     },
     "metadata": {},
     "output_type": "display_data"
    },
    {
     "data": {
      "text/html": [
       "<pre style=\"white-space:pre;overflow-x:auto;line-height:normal;font-family:Menlo,'DejaVu Sans Mono',consolas,'Courier New',monospace\">\n",
       "</pre>\n"
      ],
      "text/plain": [
       "\n"
      ]
     },
     "metadata": {},
     "output_type": "display_data"
    },
    {
     "data": {
      "application/vnd.jupyter.widget-view+json": {
       "model_id": "5ba1aea27e484a4ab20059518d8a21ab",
       "version_major": 2,
       "version_minor": 0
      },
      "text/plain": [
       "Output()"
      ]
     },
     "metadata": {},
     "output_type": "display_data"
    },
    {
     "data": {
      "text/html": [
       "<pre style=\"white-space:pre;overflow-x:auto;line-height:normal;font-family:Menlo,'DejaVu Sans Mono',consolas,'Courier New',monospace\">Event loop is already running. Applying nest_asyncio patch to allow async execution...\n",
       "</pre>\n"
      ],
      "text/plain": [
       "Event loop is already running. Applying nest_asyncio patch to allow async execution...\n"
      ]
     },
     "metadata": {},
     "output_type": "display_data"
    },
    {
     "data": {
      "text/html": [
       "<pre style=\"white-space:pre;overflow-x:auto;line-height:normal;font-family:Menlo,'DejaVu Sans Mono',consolas,'Courier New',monospace\"></pre>\n"
      ],
      "text/plain": []
     },
     "metadata": {},
     "output_type": "display_data"
    },
    {
     "data": {
      "text/html": [
       "<pre style=\"white-space:pre;overflow-x:auto;line-height:normal;font-family:Menlo,'DejaVu Sans Mono',consolas,'Courier New',monospace\">\n",
       "</pre>\n"
      ],
      "text/plain": [
       "\n"
      ]
     },
     "metadata": {},
     "output_type": "display_data"
    },
    {
     "data": {
      "application/vnd.jupyter.widget-view+json": {
       "model_id": "52f83c93a743462ca99ff5117441a5ca",
       "version_major": 2,
       "version_minor": 0
      },
      "text/plain": [
       "Output()"
      ]
     },
     "metadata": {},
     "output_type": "display_data"
    },
    {
     "name": "stdout",
     "output_type": "stream",
     "text": [
      "Event loop is already running. Applying nest_asyncio patch to allow async execution...\n"
     ]
    },
    {
     "data": {
      "text/html": [
       "<pre style=\"white-space:pre;overflow-x:auto;line-height:normal;font-family:Menlo,'DejaVu Sans Mono',consolas,'Courier New',monospace\"></pre>\n"
      ],
      "text/plain": []
     },
     "metadata": {},
     "output_type": "display_data"
    },
    {
     "data": {
      "text/html": [
       "<pre style=\"white-space:pre;overflow-x:auto;line-height:normal;font-family:Menlo,'DejaVu Sans Mono',consolas,'Courier New',monospace\">\n",
       "</pre>\n"
      ],
      "text/plain": [
       "\n"
      ]
     },
     "metadata": {},
     "output_type": "display_data"
    },
    {
     "name": "stderr",
     "output_type": "stream",
     "text": [
      "/Users/harshshah/miniconda3/envs/eval/lib/python3.12/site-packages/portalocker/utils.py:218: UserWarning: timeout has no effect in blocking mode\n",
      "  warnings.warn(\n"
     ]
    },
    {
     "data": {
      "text/html": [
       "<pre style=\"white-space:pre;overflow-x:auto;line-height:normal;font-family:Menlo,'DejaVu Sans Mono',consolas,'Courier New',monospace\">✅ Tests finished! Run <span style=\"color: #008000; text-decoration-color: #008000\">\"deepeval login\"</span> to view evaluation results on the web.\n",
       "</pre>\n"
      ],
      "text/plain": [
       "✅ Tests finished! Run \u001b[32m\"deepeval login\"\u001b[0m to view evaluation results on the web.\n"
      ]
     },
     "metadata": {},
     "output_type": "display_data"
    },
    {
     "data": {
      "application/vnd.jupyter.widget-view+json": {
       "model_id": "c85191fadde549b994fe94a3590a50f0",
       "version_major": 2,
       "version_minor": 0
      },
      "text/plain": [
       "Output()"
      ]
     },
     "metadata": {},
     "output_type": "display_data"
    },
    {
     "name": "stdout",
     "output_type": "stream",
     "text": [
      "Event loop is already running. Applying nest_asyncio patch to allow async execution...\n"
     ]
    },
    {
     "data": {
      "text/html": [
       "<pre style=\"white-space:pre;overflow-x:auto;line-height:normal;font-family:Menlo,'DejaVu Sans Mono',consolas,'Courier New',monospace\"></pre>\n"
      ],
      "text/plain": []
     },
     "metadata": {},
     "output_type": "display_data"
    },
    {
     "data": {
      "text/html": [
       "<pre style=\"white-space:pre;overflow-x:auto;line-height:normal;font-family:Menlo,'DejaVu Sans Mono',consolas,'Courier New',monospace\">\n",
       "</pre>\n"
      ],
      "text/plain": [
       "\n"
      ]
     },
     "metadata": {},
     "output_type": "display_data"
    },
    {
     "name": "stderr",
     "output_type": "stream",
     "text": [
      "/Users/harshshah/miniconda3/envs/eval/lib/python3.12/site-packages/portalocker/utils.py:218: UserWarning: timeout has no effect in blocking mode\n",
      "  warnings.warn(\n"
     ]
    },
    {
     "data": {
      "text/html": [
       "<pre style=\"white-space:pre;overflow-x:auto;line-height:normal;font-family:Menlo,'DejaVu Sans Mono',consolas,'Courier New',monospace\">✅ Tests finished! Run <span style=\"color: #008000; text-decoration-color: #008000\">\"deepeval login\"</span> to view evaluation results on the web.\n",
       "</pre>\n"
      ],
      "text/plain": [
       "✅ Tests finished! Run \u001b[32m\"deepeval login\"\u001b[0m to view evaluation results on the web.\n"
      ]
     },
     "metadata": {},
     "output_type": "display_data"
    },
    {
     "data": {
      "text/plain": [
       "{'Hallucination Score': {'score': 0.0,\n",
       "  'reason': 'The score is 0.00 because there are no factual alignments or contradictions, indicating that the actual output is entirely accurate and consistent with the provided context.'},\n",
       " 'Faithfulness Score': {'score': 1.0,\n",
       "  'reason': 'The score is 1.00 because there are no contradictions. Great job on maintaining perfect alignment with the retrieval context! Keep up the excellent work!'},\n",
       " 'Factual Coverage': {'score': 0.9439148171321874,\n",
       "  'reason': \"The actual output includes all key details from the input: product name, display type, FOV, tracking system, and connectivity options. However, it does not mention the target keywords 'VisionX latest VR'.\"},\n",
       " 'Structure Score': {'score': 0.6352576780722836,\n",
       "  'reason': \"The actual output covers the core information and uses a heading, but it lacks the target keyword 'VisionX latest VR' and the paragraph is slightly longer than ideal.\"},\n",
       " 'Keyword Usage': {'score': 0.3190085354009712,\n",
       "  'reason': \"The target keywords 'VisionX latest VR' are not present in the title or meta descriptions. They are also not appropriately used in the headings. The content mentions 'VisionX Immersion VR Headset' but does not include 'latest VR'.\"},\n",
       " 'Mobile Optimization': {'score': 0.6851885179327549,\n",
       "  'reason': 'The actual output is informative and aligns well with the input requirements, mentioning key features like dual 4K OLED, 200° FOV, 6DOF tracking, and connectivity options. However, it does not explicitly address responsiveness, load speed, or touch interactions on mobile devices.'},\n",
       " 'Image Optimization': {'score': 0.0942681380606459,\n",
       "  'reason': 'The actual output does not include an image or alt text, making it impossible to evaluate file size, format, or alt text relevance.'},\n",
       " 'Social Sharing Potential': {'score': 0.010901448648383705,\n",
       "  'reason': 'The actual output does not include any social sharing buttons for popular platforms.'},\n",
       " 'Content Depth and Relevance': {'score': 0.8881988653242567,\n",
       "  'reason': 'The Actual Output is detailed and covers all key points from the Input, including the product name, display, FOV, tracking, and connectivity. It is relevant and provides useful information but could be slightly more concise.'},\n",
       " 'Audience Engagement Potential': {'score': 0.32732783653479824,\n",
       "  'reason': \"The Actual Output lacks questions and interactive elements. It has a call-to-action ('Stay tuned for more updates!') but it is not compelling enough to drive engagement.\"},\n",
       " 'Readability Score': {'score': 0.8539118213078284,\n",
       "  'reason': \"The vocabulary is accessible, and sentences are of moderate length. The structure is clear and easy to understand, with no convoluted parts. The readability is high, but minor technical terms like '6DOF' could be slightly challenging for some readers.\"},\n",
       " 'Cohesiveness': {'score': 0.8965546629717128,\n",
       "  'reason': \"The text has a clear and logical structure, flows smoothly, and maintains consistency. However, the abrupt ending with 'Stay tuned for more updates!' slightly disrupts the cohesiveness.\"}}"
      ]
     },
     "execution_count": 22,
     "metadata": {},
     "output_type": "execute_result"
    }
   ],
   "source": [
    "content.get_llm_metrics()\n"
   ]
  },
  {
   "cell_type": "code",
   "execution_count": null,
   "metadata": {},
   "outputs": [],
   "source": []
  }
 ],
 "metadata": {
  "kernelspec": {
   "display_name": "eval",
   "language": "python",
   "name": "python3"
  },
  "language_info": {
   "codemirror_mode": {
    "name": "ipython",
    "version": 3
   },
   "file_extension": ".py",
   "mimetype": "text/x-python",
   "name": "python",
   "nbconvert_exporter": "python",
   "pygments_lexer": "ipython3",
   "version": "3.12.3"
  }
 },
 "nbformat": 4,
 "nbformat_minor": 2
}

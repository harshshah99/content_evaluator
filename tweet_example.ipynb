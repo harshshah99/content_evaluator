{
 "cells": [
  {
   "cell_type": "code",
   "execution_count": 1,
   "metadata": {},
   "outputs": [],
   "source": [
    "import os\n",
    "\n",
    "os.environ['OPENAI_API_KEY'] = 'your-openai-key-here'"
   ]
  },
  {
   "cell_type": "code",
   "execution_count": 5,
   "metadata": {},
   "outputs": [
    {
     "name": "stdout",
     "output_type": "stream",
     "text": [
      "Requirement already satisfied: deepeval in /Users/harshshah/miniconda3/envs/eval/lib/python3.12/site-packages (0.21.48)\n",
      "Requirement already satisfied: requests in /Users/harshshah/miniconda3/envs/eval/lib/python3.12/site-packages (from deepeval) (2.32.2)\n",
      "Requirement already satisfied: tqdm in /Users/harshshah/miniconda3/envs/eval/lib/python3.12/site-packages (from deepeval) (4.66.4)\n",
      "Requirement already satisfied: pytest in /Users/harshshah/miniconda3/envs/eval/lib/python3.12/site-packages (from deepeval) (8.2.1)\n",
      "Requirement already satisfied: tabulate in /Users/harshshah/miniconda3/envs/eval/lib/python3.12/site-packages (from deepeval) (0.9.0)\n",
      "Requirement already satisfied: typer in /Users/harshshah/miniconda3/envs/eval/lib/python3.12/site-packages (from deepeval) (0.12.3)\n",
      "Requirement already satisfied: rich in /Users/harshshah/miniconda3/envs/eval/lib/python3.12/site-packages (from deepeval) (13.7.1)\n",
      "Requirement already satisfied: protobuf==4.25.1 in /Users/harshshah/miniconda3/envs/eval/lib/python3.12/site-packages (from deepeval) (4.25.1)\n",
      "Requirement already satisfied: pydantic in /Users/harshshah/miniconda3/envs/eval/lib/python3.12/site-packages (from deepeval) (2.7.1)\n",
      "Requirement already satisfied: sentry-sdk in /Users/harshshah/miniconda3/envs/eval/lib/python3.12/site-packages (from deepeval) (2.3.1)\n",
      "Requirement already satisfied: pytest-repeat in /Users/harshshah/miniconda3/envs/eval/lib/python3.12/site-packages (from deepeval) (0.9.3)\n",
      "Requirement already satisfied: pytest-xdist in /Users/harshshah/miniconda3/envs/eval/lib/python3.12/site-packages (from deepeval) (3.6.1)\n",
      "Requirement already satisfied: portalocker in /Users/harshshah/miniconda3/envs/eval/lib/python3.12/site-packages (from deepeval) (2.8.2)\n",
      "Requirement already satisfied: langchain in /Users/harshshah/miniconda3/envs/eval/lib/python3.12/site-packages (from deepeval) (0.2.1)\n",
      "Requirement already satisfied: langchain-core in /Users/harshshah/miniconda3/envs/eval/lib/python3.12/site-packages (from deepeval) (0.2.1)\n",
      "Requirement already satisfied: langchain-openai in /Users/harshshah/miniconda3/envs/eval/lib/python3.12/site-packages (from deepeval) (0.1.7)\n",
      "Requirement already satisfied: ragas in /Users/harshshah/miniconda3/envs/eval/lib/python3.12/site-packages (from deepeval) (0.1.8)\n",
      "Requirement already satisfied: docx2txt~=0.8 in /Users/harshshah/miniconda3/envs/eval/lib/python3.12/site-packages (from deepeval) (0.8)\n",
      "Requirement already satisfied: importlib-metadata>=6.0.2 in /Users/harshshah/miniconda3/envs/eval/lib/python3.12/site-packages (from deepeval) (7.0.0)\n",
      "Requirement already satisfied: tenacity~=8.2.3 in /Users/harshshah/miniconda3/envs/eval/lib/python3.12/site-packages (from deepeval) (8.2.3)\n",
      "Requirement already satisfied: opentelemetry-api<2.0.0,>=1.14.0 in /Users/harshshah/miniconda3/envs/eval/lib/python3.12/site-packages (from deepeval) (1.24.0)\n",
      "Requirement already satisfied: opentelemetry-sdk<2.0.0,>=1.14.0 in /Users/harshshah/miniconda3/envs/eval/lib/python3.12/site-packages (from deepeval) (1.24.0)\n",
      "Requirement already satisfied: opentelemetry-exporter-otlp-proto-grpc<2.0.0,>=1.24.0 in /Users/harshshah/miniconda3/envs/eval/lib/python3.12/site-packages (from deepeval) (1.24.0)\n",
      "Requirement already satisfied: zipp>=0.5 in /Users/harshshah/miniconda3/envs/eval/lib/python3.12/site-packages (from importlib-metadata>=6.0.2->deepeval) (3.19.0)\n",
      "Requirement already satisfied: deprecated>=1.2.6 in /Users/harshshah/miniconda3/envs/eval/lib/python3.12/site-packages (from opentelemetry-api<2.0.0,>=1.14.0->deepeval) (1.2.14)\n",
      "Requirement already satisfied: googleapis-common-protos~=1.52 in /Users/harshshah/miniconda3/envs/eval/lib/python3.12/site-packages (from opentelemetry-exporter-otlp-proto-grpc<2.0.0,>=1.24.0->deepeval) (1.63.0)\n",
      "Requirement already satisfied: grpcio<2.0.0,>=1.0.0 in /Users/harshshah/miniconda3/envs/eval/lib/python3.12/site-packages (from opentelemetry-exporter-otlp-proto-grpc<2.0.0,>=1.24.0->deepeval) (1.64.0)\n",
      "Requirement already satisfied: opentelemetry-exporter-otlp-proto-common==1.24.0 in /Users/harshshah/miniconda3/envs/eval/lib/python3.12/site-packages (from opentelemetry-exporter-otlp-proto-grpc<2.0.0,>=1.24.0->deepeval) (1.24.0)\n",
      "Requirement already satisfied: opentelemetry-proto==1.24.0 in /Users/harshshah/miniconda3/envs/eval/lib/python3.12/site-packages (from opentelemetry-exporter-otlp-proto-grpc<2.0.0,>=1.24.0->deepeval) (1.24.0)\n",
      "Requirement already satisfied: opentelemetry-semantic-conventions==0.45b0 in /Users/harshshah/miniconda3/envs/eval/lib/python3.12/site-packages (from opentelemetry-sdk<2.0.0,>=1.14.0->deepeval) (0.45b0)\n",
      "Requirement already satisfied: typing-extensions>=3.7.4 in /Users/harshshah/miniconda3/envs/eval/lib/python3.12/site-packages (from opentelemetry-sdk<2.0.0,>=1.14.0->deepeval) (4.12.0)\n",
      "Requirement already satisfied: PyYAML>=5.3 in /Users/harshshah/miniconda3/envs/eval/lib/python3.12/site-packages (from langchain->deepeval) (6.0.1)\n",
      "Requirement already satisfied: SQLAlchemy<3,>=1.4 in /Users/harshshah/miniconda3/envs/eval/lib/python3.12/site-packages (from langchain->deepeval) (2.0.30)\n",
      "Requirement already satisfied: aiohttp<4.0.0,>=3.8.3 in /Users/harshshah/miniconda3/envs/eval/lib/python3.12/site-packages (from langchain->deepeval) (3.9.5)\n",
      "Requirement already satisfied: langchain-text-splitters<0.3.0,>=0.2.0 in /Users/harshshah/miniconda3/envs/eval/lib/python3.12/site-packages (from langchain->deepeval) (0.2.0)\n",
      "Requirement already satisfied: langsmith<0.2.0,>=0.1.17 in /Users/harshshah/miniconda3/envs/eval/lib/python3.12/site-packages (from langchain->deepeval) (0.1.63)\n",
      "Requirement already satisfied: numpy<2,>=1 in /Users/harshshah/miniconda3/envs/eval/lib/python3.12/site-packages (from langchain->deepeval) (1.26.4)\n",
      "Requirement already satisfied: jsonpatch<2.0,>=1.33 in /Users/harshshah/miniconda3/envs/eval/lib/python3.12/site-packages (from langchain-core->deepeval) (1.33)\n",
      "Requirement already satisfied: packaging<24.0,>=23.2 in /Users/harshshah/miniconda3/envs/eval/lib/python3.12/site-packages (from langchain-core->deepeval) (23.2)\n",
      "Requirement already satisfied: annotated-types>=0.4.0 in /Users/harshshah/miniconda3/envs/eval/lib/python3.12/site-packages (from pydantic->deepeval) (0.7.0)\n",
      "Requirement already satisfied: pydantic-core==2.18.2 in /Users/harshshah/miniconda3/envs/eval/lib/python3.12/site-packages (from pydantic->deepeval) (2.18.2)\n",
      "Requirement already satisfied: charset-normalizer<4,>=2 in /Users/harshshah/miniconda3/envs/eval/lib/python3.12/site-packages (from requests->deepeval) (3.3.2)\n",
      "Requirement already satisfied: idna<4,>=2.5 in /Users/harshshah/miniconda3/envs/eval/lib/python3.12/site-packages (from requests->deepeval) (3.7)\n",
      "Requirement already satisfied: urllib3<3,>=1.21.1 in /Users/harshshah/miniconda3/envs/eval/lib/python3.12/site-packages (from requests->deepeval) (2.2.1)\n",
      "Requirement already satisfied: certifi>=2017.4.17 in /Users/harshshah/miniconda3/envs/eval/lib/python3.12/site-packages (from requests->deepeval) (2024.2.2)\n",
      "Requirement already satisfied: openai<2.0.0,>=1.24.0 in /Users/harshshah/miniconda3/envs/eval/lib/python3.12/site-packages (from langchain-openai->deepeval) (1.30.3)\n",
      "Requirement already satisfied: tiktoken<1,>=0.7 in /Users/harshshah/miniconda3/envs/eval/lib/python3.12/site-packages (from langchain-openai->deepeval) (0.7.0)\n",
      "Requirement already satisfied: iniconfig in /Users/harshshah/miniconda3/envs/eval/lib/python3.12/site-packages (from pytest->deepeval) (2.0.0)\n",
      "Requirement already satisfied: pluggy<2.0,>=1.5 in /Users/harshshah/miniconda3/envs/eval/lib/python3.12/site-packages (from pytest->deepeval) (1.5.0)\n",
      "Requirement already satisfied: execnet>=2.1 in /Users/harshshah/miniconda3/envs/eval/lib/python3.12/site-packages (from pytest-xdist->deepeval) (2.1.1)\n",
      "Requirement already satisfied: datasets in /Users/harshshah/miniconda3/envs/eval/lib/python3.12/site-packages (from ragas->deepeval) (2.19.1)\n",
      "Requirement already satisfied: langchain-community in /Users/harshshah/miniconda3/envs/eval/lib/python3.12/site-packages (from ragas->deepeval) (0.2.1)\n",
      "Requirement already satisfied: pysbd>=0.3.4 in /Users/harshshah/miniconda3/envs/eval/lib/python3.12/site-packages (from ragas->deepeval) (0.3.4)\n",
      "Requirement already satisfied: nest-asyncio in /Users/harshshah/miniconda3/envs/eval/lib/python3.12/site-packages (from ragas->deepeval) (1.6.0)\n",
      "Requirement already satisfied: appdirs in /Users/harshshah/miniconda3/envs/eval/lib/python3.12/site-packages (from ragas->deepeval) (1.4.4)\n",
      "Requirement already satisfied: markdown-it-py>=2.2.0 in /Users/harshshah/miniconda3/envs/eval/lib/python3.12/site-packages (from rich->deepeval) (3.0.0)\n",
      "Requirement already satisfied: pygments<3.0.0,>=2.13.0 in /Users/harshshah/miniconda3/envs/eval/lib/python3.12/site-packages (from rich->deepeval) (2.15.1)\n",
      "Requirement already satisfied: click>=8.0.0 in /Users/harshshah/miniconda3/envs/eval/lib/python3.12/site-packages (from typer->deepeval) (8.1.7)\n",
      "Requirement already satisfied: shellingham>=1.3.0 in /Users/harshshah/miniconda3/envs/eval/lib/python3.12/site-packages (from typer->deepeval) (1.5.4)\n",
      "Requirement already satisfied: aiosignal>=1.1.2 in /Users/harshshah/miniconda3/envs/eval/lib/python3.12/site-packages (from aiohttp<4.0.0,>=3.8.3->langchain->deepeval) (1.3.1)\n",
      "Requirement already satisfied: attrs>=17.3.0 in /Users/harshshah/miniconda3/envs/eval/lib/python3.12/site-packages (from aiohttp<4.0.0,>=3.8.3->langchain->deepeval) (23.2.0)\n",
      "Requirement already satisfied: frozenlist>=1.1.1 in /Users/harshshah/miniconda3/envs/eval/lib/python3.12/site-packages (from aiohttp<4.0.0,>=3.8.3->langchain->deepeval) (1.4.1)\n",
      "Requirement already satisfied: multidict<7.0,>=4.5 in /Users/harshshah/miniconda3/envs/eval/lib/python3.12/site-packages (from aiohttp<4.0.0,>=3.8.3->langchain->deepeval) (6.0.5)\n",
      "Requirement already satisfied: yarl<2.0,>=1.0 in /Users/harshshah/miniconda3/envs/eval/lib/python3.12/site-packages (from aiohttp<4.0.0,>=3.8.3->langchain->deepeval) (1.9.4)\n",
      "Requirement already satisfied: wrapt<2,>=1.10 in /Users/harshshah/miniconda3/envs/eval/lib/python3.12/site-packages (from deprecated>=1.2.6->opentelemetry-api<2.0.0,>=1.14.0->deepeval) (1.16.0)\n",
      "Requirement already satisfied: jsonpointer>=1.9 in /Users/harshshah/miniconda3/envs/eval/lib/python3.12/site-packages (from jsonpatch<2.0,>=1.33->langchain-core->deepeval) (2.4)\n",
      "Requirement already satisfied: orjson<4.0.0,>=3.9.14 in /Users/harshshah/miniconda3/envs/eval/lib/python3.12/site-packages (from langsmith<0.2.0,>=0.1.17->langchain->deepeval) (3.10.3)\n",
      "Requirement already satisfied: mdurl~=0.1 in /Users/harshshah/miniconda3/envs/eval/lib/python3.12/site-packages (from markdown-it-py>=2.2.0->rich->deepeval) (0.1.2)\n",
      "Requirement already satisfied: anyio<5,>=3.5.0 in /Users/harshshah/miniconda3/envs/eval/lib/python3.12/site-packages (from openai<2.0.0,>=1.24.0->langchain-openai->deepeval) (4.4.0)\n",
      "Requirement already satisfied: distro<2,>=1.7.0 in /Users/harshshah/miniconda3/envs/eval/lib/python3.12/site-packages (from openai<2.0.0,>=1.24.0->langchain-openai->deepeval) (1.9.0)\n",
      "Requirement already satisfied: httpx<1,>=0.23.0 in /Users/harshshah/miniconda3/envs/eval/lib/python3.12/site-packages (from openai<2.0.0,>=1.24.0->langchain-openai->deepeval) (0.27.0)\n",
      "Requirement already satisfied: sniffio in /Users/harshshah/miniconda3/envs/eval/lib/python3.12/site-packages (from openai<2.0.0,>=1.24.0->langchain-openai->deepeval) (1.3.1)\n",
      "Requirement already satisfied: regex>=2022.1.18 in /Users/harshshah/miniconda3/envs/eval/lib/python3.12/site-packages (from tiktoken<1,>=0.7->langchain-openai->deepeval) (2024.5.15)\n",
      "Requirement already satisfied: filelock in /Users/harshshah/miniconda3/envs/eval/lib/python3.12/site-packages (from datasets->ragas->deepeval) (3.14.0)\n",
      "Requirement already satisfied: pyarrow>=12.0.0 in /Users/harshshah/miniconda3/envs/eval/lib/python3.12/site-packages (from datasets->ragas->deepeval) (16.1.0)\n",
      "Requirement already satisfied: pyarrow-hotfix in /Users/harshshah/miniconda3/envs/eval/lib/python3.12/site-packages (from datasets->ragas->deepeval) (0.6)\n",
      "Requirement already satisfied: dill<0.3.9,>=0.3.0 in /Users/harshshah/miniconda3/envs/eval/lib/python3.12/site-packages (from datasets->ragas->deepeval) (0.3.8)\n",
      "Requirement already satisfied: pandas in /Users/harshshah/miniconda3/envs/eval/lib/python3.12/site-packages (from datasets->ragas->deepeval) (2.2.2)\n",
      "Requirement already satisfied: xxhash in /Users/harshshah/miniconda3/envs/eval/lib/python3.12/site-packages (from datasets->ragas->deepeval) (3.4.1)\n",
      "Requirement already satisfied: multiprocess in /Users/harshshah/miniconda3/envs/eval/lib/python3.12/site-packages (from datasets->ragas->deepeval) (0.70.16)\n",
      "Requirement already satisfied: fsspec<=2024.3.1,>=2023.1.0 in /Users/harshshah/miniconda3/envs/eval/lib/python3.12/site-packages (from fsspec[http]<=2024.3.1,>=2023.1.0->datasets->ragas->deepeval) (2024.3.1)\n",
      "Requirement already satisfied: huggingface-hub>=0.21.2 in /Users/harshshah/miniconda3/envs/eval/lib/python3.12/site-packages (from datasets->ragas->deepeval) (0.23.2)\n",
      "Requirement already satisfied: dataclasses-json<0.7,>=0.5.7 in /Users/harshshah/miniconda3/envs/eval/lib/python3.12/site-packages (from langchain-community->ragas->deepeval) (0.6.6)\n",
      "Requirement already satisfied: marshmallow<4.0.0,>=3.18.0 in /Users/harshshah/miniconda3/envs/eval/lib/python3.12/site-packages (from dataclasses-json<0.7,>=0.5.7->langchain-community->ragas->deepeval) (3.21.2)\n",
      "Requirement already satisfied: typing-inspect<1,>=0.4.0 in /Users/harshshah/miniconda3/envs/eval/lib/python3.12/site-packages (from dataclasses-json<0.7,>=0.5.7->langchain-community->ragas->deepeval) (0.9.0)\n",
      "Requirement already satisfied: httpcore==1.* in /Users/harshshah/miniconda3/envs/eval/lib/python3.12/site-packages (from httpx<1,>=0.23.0->openai<2.0.0,>=1.24.0->langchain-openai->deepeval) (1.0.5)\n",
      "Requirement already satisfied: h11<0.15,>=0.13 in /Users/harshshah/miniconda3/envs/eval/lib/python3.12/site-packages (from httpcore==1.*->httpx<1,>=0.23.0->openai<2.0.0,>=1.24.0->langchain-openai->deepeval) (0.14.0)\n",
      "Requirement already satisfied: python-dateutil>=2.8.2 in /Users/harshshah/miniconda3/envs/eval/lib/python3.12/site-packages (from pandas->datasets->ragas->deepeval) (2.9.0.post0)\n",
      "Requirement already satisfied: pytz>=2020.1 in /Users/harshshah/miniconda3/envs/eval/lib/python3.12/site-packages (from pandas->datasets->ragas->deepeval) (2024.1)\n",
      "Requirement already satisfied: tzdata>=2022.7 in /Users/harshshah/miniconda3/envs/eval/lib/python3.12/site-packages (from pandas->datasets->ragas->deepeval) (2024.1)\n",
      "Requirement already satisfied: six>=1.5 in /Users/harshshah/miniconda3/envs/eval/lib/python3.12/site-packages (from python-dateutil>=2.8.2->pandas->datasets->ragas->deepeval) (1.16.0)\n",
      "Requirement already satisfied: mypy-extensions>=0.3.0 in /Users/harshshah/miniconda3/envs/eval/lib/python3.12/site-packages (from typing-inspect<1,>=0.4.0->dataclasses-json<0.7,>=0.5.7->langchain-community->ragas->deepeval) (1.0.0)\n",
      "Requirement already satisfied: nltk in /Users/harshshah/miniconda3/envs/eval/lib/python3.12/site-packages (3.8.1)\n",
      "Requirement already satisfied: click in /Users/harshshah/miniconda3/envs/eval/lib/python3.12/site-packages (from nltk) (8.1.7)\n",
      "Requirement already satisfied: joblib in /Users/harshshah/miniconda3/envs/eval/lib/python3.12/site-packages (from nltk) (1.4.2)\n",
      "Requirement already satisfied: regex>=2021.8.3 in /Users/harshshah/miniconda3/envs/eval/lib/python3.12/site-packages (from nltk) (2024.5.15)\n",
      "Requirement already satisfied: tqdm in /Users/harshshah/miniconda3/envs/eval/lib/python3.12/site-packages (from nltk) (4.66.4)\n",
      "Requirement already satisfied: textstat in /Users/harshshah/miniconda3/envs/eval/lib/python3.12/site-packages (0.7.3)\n",
      "Requirement already satisfied: pyphen in /Users/harshshah/miniconda3/envs/eval/lib/python3.12/site-packages (from textstat) (0.15.0)\n"
     ]
    },
    {
     "name": "stderr",
     "output_type": "stream",
     "text": [
      "[nltk_data] Downloading package vader_lexicon to\n",
      "[nltk_data]     /Users/harshshah/nltk_data...\n",
      "[nltk_data]   Package vader_lexicon is already up-to-date!\n",
      "[nltk_data] Downloading package punkt to /Users/harshshah/nltk_data...\n",
      "[nltk_data]   Package punkt is already up-to-date!\n"
     ]
    },
    {
     "data": {
      "text/plain": [
       "True"
      ]
     },
     "execution_count": 5,
     "metadata": {},
     "output_type": "execute_result"
    }
   ],
   "source": [
    "!pip install -U deepeval\n",
    "!pip install nltk\n",
    "!pip install textstat\n",
    "\n",
    "import nltk  \n",
    "nltk.download('vader_lexicon')\n",
    "nltk.download('punkt')"
   ]
  },
  {
   "cell_type": "code",
   "execution_count": 2,
   "metadata": {},
   "outputs": [],
   "source": [
    "reference_details = \"\"\"\n",
    "- Brand: CoolAir   \n",
    "- Model: PortaChill 5000   \n",
    "- Cooling Capacity: 12000 BTU   \n",
    "- Power Consumption: 1350W   \n",
    "- Noise Level: 52 dB   \n",
    "- Features: Dual Filtration System, Wi-Fi Connectivity, Energy Saving Mode\"\"\"\n",
    "\n",
    "tweet_1 = \"Experience the ultimate cooling comfort with our CoolAir PortaChill 5000. This portable AC offers a powerful 12000 BTU capacity, operates at a minimal noise level of 52 dB, and features an energy-saving mode. With its dual filtration system, breathe in cleaner air. Now with Wi-Fi connectivity for effortless control. #CoolAir #StayCool\""
   ]
  },
  {
   "cell_type": "code",
   "execution_count": 3,
   "metadata": {},
   "outputs": [],
   "source": [
    "from base_content import Content\n",
    "import pandas as pd"
   ]
  },
  {
   "cell_type": "code",
   "execution_count": 4,
   "metadata": {},
   "outputs": [
    {
     "name": "stdout",
     "output_type": "stream",
     "text": [
      "INFO : Additional Keyword arguments passed. ALL keyword arguments will be appended to reference text\n",
      "Avoid irrelevant keyword arguments. This will ensure more stable evaluation\n"
     ]
    }
   ],
   "source": [
    "content = Content(generated_content=tweet_1,\n",
    "                  reference_text=reference_details,\n",
    "                  content_type='tweet',\n",
    "                  model='gpt-4o',\n",
    "                  current_trending_hashtags = ['#india_heatwave', '#power_cuts', '#election'],\n",
    "                  brand_tone='Fun, Trendy, Sleek, Helpful, Friendly')"
   ]
  },
  {
   "cell_type": "code",
   "execution_count": 5,
   "metadata": {},
   "outputs": [
    {
     "data": {
      "text/plain": [
       "{'overall_sentiment': 0.8592,\n",
       " 'reading_ease': 50.02,\n",
       " 'content_length': 336,\n",
       " 'word_count': 60,\n",
       " 'para_count': 1,\n",
       " 'sent_count': 5,\n",
       " 'words_per_sentence': 12.0,\n",
       " 'lexical_diversity': 0.85}"
      ]
     },
     "execution_count": 5,
     "metadata": {},
     "output_type": "execute_result"
    }
   ],
   "source": [
    "content.get_statistical_metrics()"
   ]
  },
  {
   "cell_type": "code",
   "execution_count": 6,
   "metadata": {},
   "outputs": [
    {
     "data": {
      "text/plain": [
       "{'content_tone': 'Informal',\n",
       " 'content_topic': 'CoolAir PortaChill 5000 portable AC',\n",
       " 'suggested_keywords': ['CoolAir PortaChill 5000',\n",
       "  'portable AC',\n",
       "  '12000 BTU capacity',\n",
       "  'minimal noise level',\n",
       "  'energy-saving mode',\n",
       "  'dual filtration system',\n",
       "  'Wi-Fi connectivity'],\n",
       " 'search_queries': ['CoolAir PortaChill 5000 features',\n",
       "  'best portable AC with Wi-Fi',\n",
       "  'energy-saving portable AC',\n",
       "  'portable AC with dual filtration']}"
      ]
     },
     "execution_count": 6,
     "metadata": {},
     "output_type": "execute_result"
    }
   ],
   "source": [
    "content.get_content_insights()"
   ]
  },
  {
   "cell_type": "code",
   "execution_count": 7,
   "metadata": {},
   "outputs": [
    {
     "data": {
      "application/vnd.jupyter.widget-view+json": {
       "model_id": "fe8069ae889d4ff58f101dd936db1cd1",
       "version_major": 2,
       "version_minor": 0
      },
      "text/plain": [
       "Output()"
      ]
     },
     "metadata": {},
     "output_type": "display_data"
    },
    {
     "data": {
      "text/html": [
       "<pre style=\"white-space:pre;overflow-x:auto;line-height:normal;font-family:Menlo,'DejaVu Sans Mono',consolas,'Courier New',monospace\"></pre>\n"
      ],
      "text/plain": []
     },
     "metadata": {},
     "output_type": "display_data"
    },
    {
     "data": {
      "text/html": [
       "<pre style=\"white-space:pre;overflow-x:auto;line-height:normal;font-family:Menlo,'DejaVu Sans Mono',consolas,'Courier New',monospace\">\n",
       "</pre>\n"
      ],
      "text/plain": [
       "\n"
      ]
     },
     "metadata": {},
     "output_type": "display_data"
    },
    {
     "data": {
      "application/vnd.jupyter.widget-view+json": {
       "model_id": "f97874717c404e17af3d9fa2314d6832",
       "version_major": 2,
       "version_minor": 0
      },
      "text/plain": [
       "Output()"
      ]
     },
     "metadata": {},
     "output_type": "display_data"
    },
    {
     "data": {
      "text/html": [
       "<pre style=\"white-space:pre;overflow-x:auto;line-height:normal;font-family:Menlo,'DejaVu Sans Mono',consolas,'Courier New',monospace\">Event loop is already running. Applying nest_asyncio patch to allow async execution...\n",
       "</pre>\n"
      ],
      "text/plain": [
       "Event loop is already running. Applying nest_asyncio patch to allow async execution...\n"
      ]
     },
     "metadata": {},
     "output_type": "display_data"
    },
    {
     "data": {
      "text/html": [
       "<pre style=\"white-space:pre;overflow-x:auto;line-height:normal;font-family:Menlo,'DejaVu Sans Mono',consolas,'Courier New',monospace\"></pre>\n"
      ],
      "text/plain": []
     },
     "metadata": {},
     "output_type": "display_data"
    },
    {
     "data": {
      "text/html": [
       "<pre style=\"white-space:pre;overflow-x:auto;line-height:normal;font-family:Menlo,'DejaVu Sans Mono',consolas,'Courier New',monospace\">\n",
       "</pre>\n"
      ],
      "text/plain": [
       "\n"
      ]
     },
     "metadata": {},
     "output_type": "display_data"
    },
    {
     "data": {
      "application/vnd.jupyter.widget-view+json": {
       "model_id": "b9b6c7a0f8af45619d4724aff966d0bb",
       "version_major": 2,
       "version_minor": 0
      },
      "text/plain": [
       "Output()"
      ]
     },
     "metadata": {},
     "output_type": "display_data"
    },
    {
     "name": "stdout",
     "output_type": "stream",
     "text": [
      "Event loop is already running. Applying nest_asyncio patch to allow async execution...\n"
     ]
    },
    {
     "data": {
      "text/html": [
       "<pre style=\"white-space:pre;overflow-x:auto;line-height:normal;font-family:Menlo,'DejaVu Sans Mono',consolas,'Courier New',monospace\"></pre>\n"
      ],
      "text/plain": []
     },
     "metadata": {},
     "output_type": "display_data"
    },
    {
     "data": {
      "text/html": [
       "<pre style=\"white-space:pre;overflow-x:auto;line-height:normal;font-family:Menlo,'DejaVu Sans Mono',consolas,'Courier New',monospace\">\n",
       "</pre>\n"
      ],
      "text/plain": [
       "\n"
      ]
     },
     "metadata": {},
     "output_type": "display_data"
    },
    {
     "name": "stderr",
     "output_type": "stream",
     "text": [
      "/Users/harshshah/miniconda3/envs/eval/lib/python3.12/site-packages/portalocker/utils.py:218: UserWarning: timeout has no effect in blocking mode\n",
      "  warnings.warn(\n"
     ]
    },
    {
     "data": {
      "text/html": [
       "<pre style=\"white-space:pre;overflow-x:auto;line-height:normal;font-family:Menlo,'DejaVu Sans Mono',consolas,'Courier New',monospace\">✅ Tests finished! Run <span style=\"color: #008000; text-decoration-color: #008000\">\"deepeval login\"</span> to view evaluation results on the web.\n",
       "</pre>\n"
      ],
      "text/plain": [
       "✅ Tests finished! Run \u001b[32m\"deepeval login\"\u001b[0m to view evaluation results on the web.\n"
      ]
     },
     "metadata": {},
     "output_type": "display_data"
    },
    {
     "data": {
      "application/vnd.jupyter.widget-view+json": {
       "model_id": "4d1d454567794566bd19c3403be612cd",
       "version_major": 2,
       "version_minor": 0
      },
      "text/plain": [
       "Output()"
      ]
     },
     "metadata": {},
     "output_type": "display_data"
    },
    {
     "name": "stdout",
     "output_type": "stream",
     "text": [
      "Event loop is already running. Applying nest_asyncio patch to allow async execution...\n"
     ]
    },
    {
     "data": {
      "text/html": [
       "<pre style=\"white-space:pre;overflow-x:auto;line-height:normal;font-family:Menlo,'DejaVu Sans Mono',consolas,'Courier New',monospace\"></pre>\n"
      ],
      "text/plain": []
     },
     "metadata": {},
     "output_type": "display_data"
    },
    {
     "data": {
      "text/html": [
       "<pre style=\"white-space:pre;overflow-x:auto;line-height:normal;font-family:Menlo,'DejaVu Sans Mono',consolas,'Courier New',monospace\">\n",
       "</pre>\n"
      ],
      "text/plain": [
       "\n"
      ]
     },
     "metadata": {},
     "output_type": "display_data"
    },
    {
     "data": {
      "text/html": [
       "<pre style=\"white-space:pre;overflow-x:auto;line-height:normal;font-family:Menlo,'DejaVu Sans Mono',consolas,'Courier New',monospace\">✅ Tests finished! Run <span style=\"color: #008000; text-decoration-color: #008000\">\"deepeval login\"</span> to view evaluation results on the web.\n",
       "</pre>\n"
      ],
      "text/plain": [
       "✅ Tests finished! Run \u001b[32m\"deepeval login\"\u001b[0m to view evaluation results on the web.\n"
      ]
     },
     "metadata": {},
     "output_type": "display_data"
    }
   ],
   "source": [
    "res = content.get_llm_metrics()\n",
    "res_df = pd.DataFrame.from_dict(res,orient='index').reset_index()"
   ]
  },
  {
   "cell_type": "code",
   "execution_count": 8,
   "metadata": {},
   "outputs": [
    {
     "data": {
      "text/html": [
       "<div>\n",
       "<style scoped>\n",
       "    .dataframe tbody tr th:only-of-type {\n",
       "        vertical-align: middle;\n",
       "    }\n",
       "\n",
       "    .dataframe tbody tr th {\n",
       "        vertical-align: top;\n",
       "    }\n",
       "\n",
       "    .dataframe thead th {\n",
       "        text-align: right;\n",
       "    }\n",
       "</style>\n",
       "<table border=\"1\" class=\"dataframe\">\n",
       "  <thead>\n",
       "    <tr style=\"text-align: right;\">\n",
       "      <th></th>\n",
       "      <th>index</th>\n",
       "      <th>score</th>\n",
       "      <th>reason</th>\n",
       "    </tr>\n",
       "  </thead>\n",
       "  <tbody>\n",
       "    <tr>\n",
       "      <th>0</th>\n",
       "      <td>Hallucination Score</td>\n",
       "      <td>0.000000</td>\n",
       "      <td>The score is 0.00 because there are no factual...</td>\n",
       "    </tr>\n",
       "    <tr>\n",
       "      <th>1</th>\n",
       "      <td>Faithfulness Score</td>\n",
       "      <td>1.000000</td>\n",
       "      <td>The score is 1.00 because there are no contrad...</td>\n",
       "    </tr>\n",
       "    <tr>\n",
       "      <th>2</th>\n",
       "      <td>Factual Coverage</td>\n",
       "      <td>0.785380</td>\n",
       "      <td>The output includes most key details such as b...</td>\n",
       "    </tr>\n",
       "    <tr>\n",
       "      <th>3</th>\n",
       "      <td>Hashtag Usage</td>\n",
       "      <td>0.517868</td>\n",
       "      <td>The hashtags #CoolAir and #StayCool are releva...</td>\n",
       "    </tr>\n",
       "    <tr>\n",
       "      <th>4</th>\n",
       "      <td>Engagement Potential</td>\n",
       "      <td>0.338524</td>\n",
       "      <td>The Actual Output lacks questions, polls, or c...</td>\n",
       "    </tr>\n",
       "    <tr>\n",
       "      <th>5</th>\n",
       "      <td>Visual Content</td>\n",
       "      <td>0.210592</td>\n",
       "      <td>The Input tweet does not include any visual co...</td>\n",
       "    </tr>\n",
       "    <tr>\n",
       "      <th>6</th>\n",
       "      <td>Retweet Potential</td>\n",
       "      <td>0.523321</td>\n",
       "      <td>The output is relevant to the input topic and ...</td>\n",
       "    </tr>\n",
       "    <tr>\n",
       "      <th>7</th>\n",
       "      <td>Brand Tone Consistency</td>\n",
       "      <td>0.552219</td>\n",
       "      <td>The output provides detailed product informati...</td>\n",
       "    </tr>\n",
       "    <tr>\n",
       "      <th>8</th>\n",
       "      <td>Readability Score</td>\n",
       "      <td>0.893071</td>\n",
       "      <td>The text uses simple vocabulary, has varied se...</td>\n",
       "    </tr>\n",
       "    <tr>\n",
       "      <th>9</th>\n",
       "      <td>Cohesiveness</td>\n",
       "      <td>0.808623</td>\n",
       "      <td>The text has a clear structure and flows logic...</td>\n",
       "    </tr>\n",
       "  </tbody>\n",
       "</table>\n",
       "</div>"
      ],
      "text/plain": [
       "                    index     score  \\\n",
       "0     Hallucination Score  0.000000   \n",
       "1      Faithfulness Score  1.000000   \n",
       "2        Factual Coverage  0.785380   \n",
       "3           Hashtag Usage  0.517868   \n",
       "4    Engagement Potential  0.338524   \n",
       "5          Visual Content  0.210592   \n",
       "6       Retweet Potential  0.523321   \n",
       "7  Brand Tone Consistency  0.552219   \n",
       "8       Readability Score  0.893071   \n",
       "9            Cohesiveness  0.808623   \n",
       "\n",
       "                                              reason  \n",
       "0  The score is 0.00 because there are no factual...  \n",
       "1  The score is 1.00 because there are no contrad...  \n",
       "2  The output includes most key details such as b...  \n",
       "3  The hashtags #CoolAir and #StayCool are releva...  \n",
       "4  The Actual Output lacks questions, polls, or c...  \n",
       "5  The Input tweet does not include any visual co...  \n",
       "6  The output is relevant to the input topic and ...  \n",
       "7  The output provides detailed product informati...  \n",
       "8  The text uses simple vocabulary, has varied se...  \n",
       "9  The text has a clear structure and flows logic...  "
      ]
     },
     "execution_count": 8,
     "metadata": {},
     "output_type": "execute_result"
    }
   ],
   "source": [
    "res_df"
   ]
  },
  {
   "cell_type": "code",
   "execution_count": 9,
   "metadata": {},
   "outputs": [],
   "source": [
    "tweet_improved = \"Battling the #india_heatwave? Keep your cool with the PortaChill 5000. It's quiet, powerful, and perfect for those #power_cuts with its energy-saving mode. Breathe easy, stay cool, and control it all from your phone! #CoolAir #StayCool\""
   ]
  },
  {
   "cell_type": "code",
   "execution_count": 10,
   "metadata": {},
   "outputs": [
    {
     "name": "stdout",
     "output_type": "stream",
     "text": [
      "INFO : Additional Keyword arguments passed. ALL keyword arguments will be appended to reference text\n",
      "Avoid irrelevant keyword arguments. This will ensure more stable evaluation\n"
     ]
    }
   ],
   "source": [
    "content_2 = Content(generated_content=tweet_improved,\n",
    "                  reference_text=reference_details,\n",
    "                  content_type='tweet',\n",
    "                  model='gpt-4o',\n",
    "                  current_trending_hashtags = ['#india_heatwave', '#power_cuts', '#election'],\n",
    "                  brand_tone='Fun, Trendy, Sleek, Helpful, Friendly')"
   ]
  },
  {
   "cell_type": "code",
   "execution_count": 11,
   "metadata": {},
   "outputs": [
    {
     "data": {
      "application/vnd.jupyter.widget-view+json": {
       "model_id": "593781f6267347bd955b5264fe577e2d",
       "version_major": 2,
       "version_minor": 0
      },
      "text/plain": [
       "Output()"
      ]
     },
     "metadata": {},
     "output_type": "display_data"
    },
    {
     "data": {
      "text/html": [
       "<pre style=\"white-space:pre;overflow-x:auto;line-height:normal;font-family:Menlo,'DejaVu Sans Mono',consolas,'Courier New',monospace\"></pre>\n"
      ],
      "text/plain": []
     },
     "metadata": {},
     "output_type": "display_data"
    },
    {
     "data": {
      "text/html": [
       "<pre style=\"white-space:pre;overflow-x:auto;line-height:normal;font-family:Menlo,'DejaVu Sans Mono',consolas,'Courier New',monospace\">\n",
       "</pre>\n"
      ],
      "text/plain": [
       "\n"
      ]
     },
     "metadata": {},
     "output_type": "display_data"
    },
    {
     "data": {
      "application/vnd.jupyter.widget-view+json": {
       "model_id": "9036c13deb364a81b590377c2250e8b6",
       "version_major": 2,
       "version_minor": 0
      },
      "text/plain": [
       "Output()"
      ]
     },
     "metadata": {},
     "output_type": "display_data"
    },
    {
     "data": {
      "text/html": [
       "<pre style=\"white-space:pre;overflow-x:auto;line-height:normal;font-family:Menlo,'DejaVu Sans Mono',consolas,'Courier New',monospace\">Event loop is already running. Applying nest_asyncio patch to allow async execution...\n",
       "</pre>\n"
      ],
      "text/plain": [
       "Event loop is already running. Applying nest_asyncio patch to allow async execution...\n"
      ]
     },
     "metadata": {},
     "output_type": "display_data"
    },
    {
     "data": {
      "text/html": [
       "<pre style=\"white-space:pre;overflow-x:auto;line-height:normal;font-family:Menlo,'DejaVu Sans Mono',consolas,'Courier New',monospace\"></pre>\n"
      ],
      "text/plain": []
     },
     "metadata": {},
     "output_type": "display_data"
    },
    {
     "data": {
      "text/html": [
       "<pre style=\"white-space:pre;overflow-x:auto;line-height:normal;font-family:Menlo,'DejaVu Sans Mono',consolas,'Courier New',monospace\">\n",
       "</pre>\n"
      ],
      "text/plain": [
       "\n"
      ]
     },
     "metadata": {},
     "output_type": "display_data"
    },
    {
     "data": {
      "application/vnd.jupyter.widget-view+json": {
       "model_id": "60ebbc1f530e46fb8fe5f388fbe1fd62",
       "version_major": 2,
       "version_minor": 0
      },
      "text/plain": [
       "Output()"
      ]
     },
     "metadata": {},
     "output_type": "display_data"
    },
    {
     "name": "stdout",
     "output_type": "stream",
     "text": [
      "Event loop is already running. Applying nest_asyncio patch to allow async execution...\n"
     ]
    },
    {
     "data": {
      "text/html": [
       "<pre style=\"white-space:pre;overflow-x:auto;line-height:normal;font-family:Menlo,'DejaVu Sans Mono',consolas,'Courier New',monospace\"></pre>\n"
      ],
      "text/plain": []
     },
     "metadata": {},
     "output_type": "display_data"
    },
    {
     "data": {
      "text/html": [
       "<pre style=\"white-space:pre;overflow-x:auto;line-height:normal;font-family:Menlo,'DejaVu Sans Mono',consolas,'Courier New',monospace\">\n",
       "</pre>\n"
      ],
      "text/plain": [
       "\n"
      ]
     },
     "metadata": {},
     "output_type": "display_data"
    },
    {
     "name": "stderr",
     "output_type": "stream",
     "text": [
      "/Users/harshshah/miniconda3/envs/eval/lib/python3.12/site-packages/portalocker/utils.py:218: UserWarning: timeout has no effect in blocking mode\n",
      "  warnings.warn(\n"
     ]
    },
    {
     "data": {
      "text/html": [
       "<pre style=\"white-space:pre;overflow-x:auto;line-height:normal;font-family:Menlo,'DejaVu Sans Mono',consolas,'Courier New',monospace\">✅ Tests finished! Run <span style=\"color: #008000; text-decoration-color: #008000\">\"deepeval login\"</span> to view evaluation results on the web.\n",
       "</pre>\n"
      ],
      "text/plain": [
       "✅ Tests finished! Run \u001b[32m\"deepeval login\"\u001b[0m to view evaluation results on the web.\n"
      ]
     },
     "metadata": {},
     "output_type": "display_data"
    },
    {
     "data": {
      "application/vnd.jupyter.widget-view+json": {
       "model_id": "8f2b676b72f54113a4bda028d8268036",
       "version_major": 2,
       "version_minor": 0
      },
      "text/plain": [
       "Output()"
      ]
     },
     "metadata": {},
     "output_type": "display_data"
    },
    {
     "name": "stdout",
     "output_type": "stream",
     "text": [
      "Event loop is already running. Applying nest_asyncio patch to allow async execution...\n"
     ]
    },
    {
     "data": {
      "text/html": [
       "<pre style=\"white-space:pre;overflow-x:auto;line-height:normal;font-family:Menlo,'DejaVu Sans Mono',consolas,'Courier New',monospace\"></pre>\n"
      ],
      "text/plain": []
     },
     "metadata": {},
     "output_type": "display_data"
    },
    {
     "data": {
      "text/html": [
       "<pre style=\"white-space:pre;overflow-x:auto;line-height:normal;font-family:Menlo,'DejaVu Sans Mono',consolas,'Courier New',monospace\">\n",
       "</pre>\n"
      ],
      "text/plain": [
       "\n"
      ]
     },
     "metadata": {},
     "output_type": "display_data"
    },
    {
     "data": {
      "text/html": [
       "<pre style=\"white-space:pre;overflow-x:auto;line-height:normal;font-family:Menlo,'DejaVu Sans Mono',consolas,'Courier New',monospace\">✅ Tests finished! Run <span style=\"color: #008000; text-decoration-color: #008000\">\"deepeval login\"</span> to view evaluation results on the web.\n",
       "</pre>\n"
      ],
      "text/plain": [
       "✅ Tests finished! Run \u001b[32m\"deepeval login\"\u001b[0m to view evaluation results on the web.\n"
      ]
     },
     "metadata": {},
     "output_type": "display_data"
    }
   ],
   "source": [
    "new_res = content_2.get_llm_metrics()\n",
    "new_res_df = pd.DataFrame.from_dict(new_res, orient='index').reset_index()"
   ]
  },
  {
   "cell_type": "code",
   "execution_count": 12,
   "metadata": {},
   "outputs": [
    {
     "data": {
      "text/html": [
       "<div>\n",
       "<style scoped>\n",
       "    .dataframe tbody tr th:only-of-type {\n",
       "        vertical-align: middle;\n",
       "    }\n",
       "\n",
       "    .dataframe tbody tr th {\n",
       "        vertical-align: top;\n",
       "    }\n",
       "\n",
       "    .dataframe thead th {\n",
       "        text-align: right;\n",
       "    }\n",
       "</style>\n",
       "<table border=\"1\" class=\"dataframe\">\n",
       "  <thead>\n",
       "    <tr style=\"text-align: right;\">\n",
       "      <th></th>\n",
       "      <th>index</th>\n",
       "      <th>score</th>\n",
       "      <th>reason</th>\n",
       "    </tr>\n",
       "  </thead>\n",
       "  <tbody>\n",
       "    <tr>\n",
       "      <th>0</th>\n",
       "      <td>Hallucination Score</td>\n",
       "      <td>0.000000</td>\n",
       "      <td>The score is 0.00 because there are no factual...</td>\n",
       "    </tr>\n",
       "    <tr>\n",
       "      <th>1</th>\n",
       "      <td>Faithfulness Score</td>\n",
       "      <td>1.000000</td>\n",
       "      <td>The score is 1.00 because there are no contrad...</td>\n",
       "    </tr>\n",
       "    <tr>\n",
       "      <th>2</th>\n",
       "      <td>Factual Coverage</td>\n",
       "      <td>0.541859</td>\n",
       "      <td>The output includes the model PortaChill 5000,...</td>\n",
       "    </tr>\n",
       "    <tr>\n",
       "      <th>3</th>\n",
       "      <td>Hashtag Usage</td>\n",
       "      <td>0.878864</td>\n",
       "      <td>The hashtags #india_heatwave and #power_cuts a...</td>\n",
       "    </tr>\n",
       "    <tr>\n",
       "      <th>4</th>\n",
       "      <td>Engagement Potential</td>\n",
       "      <td>0.538900</td>\n",
       "      <td>The Actual Output includes hashtags and mentio...</td>\n",
       "    </tr>\n",
       "    <tr>\n",
       "      <th>5</th>\n",
       "      <td>Visual Content</td>\n",
       "      <td>0.148672</td>\n",
       "      <td>The Input tweet does not include any visual co...</td>\n",
       "    </tr>\n",
       "    <tr>\n",
       "      <th>6</th>\n",
       "      <td>Retweet Potential</td>\n",
       "      <td>0.902255</td>\n",
       "      <td>The output is highly relevant to the input top...</td>\n",
       "    </tr>\n",
       "    <tr>\n",
       "      <th>7</th>\n",
       "      <td>Brand Tone Consistency</td>\n",
       "      <td>0.807720</td>\n",
       "      <td>The output is friendly and helpful, aligning w...</td>\n",
       "    </tr>\n",
       "    <tr>\n",
       "      <th>8</th>\n",
       "      <td>Readability Score</td>\n",
       "      <td>0.894784</td>\n",
       "      <td>The text uses simple vocabulary, has varied se...</td>\n",
       "    </tr>\n",
       "    <tr>\n",
       "      <th>9</th>\n",
       "      <td>Cohesiveness</td>\n",
       "      <td>0.578605</td>\n",
       "      <td>The text has a clear structure and flows smoot...</td>\n",
       "    </tr>\n",
       "  </tbody>\n",
       "</table>\n",
       "</div>"
      ],
      "text/plain": [
       "                    index     score  \\\n",
       "0     Hallucination Score  0.000000   \n",
       "1      Faithfulness Score  1.000000   \n",
       "2        Factual Coverage  0.541859   \n",
       "3           Hashtag Usage  0.878864   \n",
       "4    Engagement Potential  0.538900   \n",
       "5          Visual Content  0.148672   \n",
       "6       Retweet Potential  0.902255   \n",
       "7  Brand Tone Consistency  0.807720   \n",
       "8       Readability Score  0.894784   \n",
       "9            Cohesiveness  0.578605   \n",
       "\n",
       "                                              reason  \n",
       "0  The score is 0.00 because there are no factual...  \n",
       "1  The score is 1.00 because there are no contrad...  \n",
       "2  The output includes the model PortaChill 5000,...  \n",
       "3  The hashtags #india_heatwave and #power_cuts a...  \n",
       "4  The Actual Output includes hashtags and mentio...  \n",
       "5  The Input tweet does not include any visual co...  \n",
       "6  The output is highly relevant to the input top...  \n",
       "7  The output is friendly and helpful, aligning w...  \n",
       "8  The text uses simple vocabulary, has varied se...  \n",
       "9  The text has a clear structure and flows smoot...  "
      ]
     },
     "execution_count": 12,
     "metadata": {},
     "output_type": "execute_result"
    }
   ],
   "source": [
    "new_res_df"
   ]
  },
  {
   "cell_type": "code",
   "execution_count": 13,
   "metadata": {},
   "outputs": [],
   "source": [
    "comparision_df = res_df.merge(new_res_df, on='index', suffixes=('_old','_new'))"
   ]
  },
  {
   "cell_type": "code",
   "execution_count": 14,
   "metadata": {},
   "outputs": [
    {
     "data": {
      "text/html": [
       "<div>\n",
       "<style scoped>\n",
       "    .dataframe tbody tr th:only-of-type {\n",
       "        vertical-align: middle;\n",
       "    }\n",
       "\n",
       "    .dataframe tbody tr th {\n",
       "        vertical-align: top;\n",
       "    }\n",
       "\n",
       "    .dataframe thead th {\n",
       "        text-align: right;\n",
       "    }\n",
       "</style>\n",
       "<table border=\"1\" class=\"dataframe\">\n",
       "  <thead>\n",
       "    <tr style=\"text-align: right;\">\n",
       "      <th></th>\n",
       "      <th>index</th>\n",
       "      <th>score_old</th>\n",
       "      <th>reason_old</th>\n",
       "      <th>score_new</th>\n",
       "      <th>reason_new</th>\n",
       "    </tr>\n",
       "  </thead>\n",
       "  <tbody>\n",
       "    <tr>\n",
       "      <th>0</th>\n",
       "      <td>Hallucination Score</td>\n",
       "      <td>0.000000</td>\n",
       "      <td>The score is 0.00 because there are no factual...</td>\n",
       "      <td>0.000000</td>\n",
       "      <td>The score is 0.00 because there are no factual...</td>\n",
       "    </tr>\n",
       "    <tr>\n",
       "      <th>1</th>\n",
       "      <td>Faithfulness Score</td>\n",
       "      <td>1.000000</td>\n",
       "      <td>The score is 1.00 because there are no contrad...</td>\n",
       "      <td>1.000000</td>\n",
       "      <td>The score is 1.00 because there are no contrad...</td>\n",
       "    </tr>\n",
       "    <tr>\n",
       "      <th>3</th>\n",
       "      <td>Hashtag Usage</td>\n",
       "      <td>0.517868</td>\n",
       "      <td>The hashtags #CoolAir and #StayCool are releva...</td>\n",
       "      <td>0.878864</td>\n",
       "      <td>The hashtags #india_heatwave and #power_cuts a...</td>\n",
       "    </tr>\n",
       "    <tr>\n",
       "      <th>4</th>\n",
       "      <td>Engagement Potential</td>\n",
       "      <td>0.338524</td>\n",
       "      <td>The Actual Output lacks questions, polls, or c...</td>\n",
       "      <td>0.538900</td>\n",
       "      <td>The Actual Output includes hashtags and mentio...</td>\n",
       "    </tr>\n",
       "    <tr>\n",
       "      <th>6</th>\n",
       "      <td>Retweet Potential</td>\n",
       "      <td>0.523321</td>\n",
       "      <td>The output is relevant to the input topic and ...</td>\n",
       "      <td>0.902255</td>\n",
       "      <td>The output is highly relevant to the input top...</td>\n",
       "    </tr>\n",
       "    <tr>\n",
       "      <th>7</th>\n",
       "      <td>Brand Tone Consistency</td>\n",
       "      <td>0.552219</td>\n",
       "      <td>The output provides detailed product informati...</td>\n",
       "      <td>0.807720</td>\n",
       "      <td>The output is friendly and helpful, aligning w...</td>\n",
       "    </tr>\n",
       "    <tr>\n",
       "      <th>8</th>\n",
       "      <td>Readability Score</td>\n",
       "      <td>0.893071</td>\n",
       "      <td>The text uses simple vocabulary, has varied se...</td>\n",
       "      <td>0.894784</td>\n",
       "      <td>The text uses simple vocabulary, has varied se...</td>\n",
       "    </tr>\n",
       "  </tbody>\n",
       "</table>\n",
       "</div>"
      ],
      "text/plain": [
       "                    index  score_old  \\\n",
       "0     Hallucination Score   0.000000   \n",
       "1      Faithfulness Score   1.000000   \n",
       "3           Hashtag Usage   0.517868   \n",
       "4    Engagement Potential   0.338524   \n",
       "6       Retweet Potential   0.523321   \n",
       "7  Brand Tone Consistency   0.552219   \n",
       "8       Readability Score   0.893071   \n",
       "\n",
       "                                          reason_old  score_new  \\\n",
       "0  The score is 0.00 because there are no factual...   0.000000   \n",
       "1  The score is 1.00 because there are no contrad...   1.000000   \n",
       "3  The hashtags #CoolAir and #StayCool are releva...   0.878864   \n",
       "4  The Actual Output lacks questions, polls, or c...   0.538900   \n",
       "6  The output is relevant to the input topic and ...   0.902255   \n",
       "7  The output provides detailed product informati...   0.807720   \n",
       "8  The text uses simple vocabulary, has varied se...   0.894784   \n",
       "\n",
       "                                          reason_new  \n",
       "0  The score is 0.00 because there are no factual...  \n",
       "1  The score is 1.00 because there are no contrad...  \n",
       "3  The hashtags #india_heatwave and #power_cuts a...  \n",
       "4  The Actual Output includes hashtags and mentio...  \n",
       "6  The output is highly relevant to the input top...  \n",
       "7  The output is friendly and helpful, aligning w...  \n",
       "8  The text uses simple vocabulary, has varied se...  "
      ]
     },
     "execution_count": 14,
     "metadata": {},
     "output_type": "execute_result"
    }
   ],
   "source": [
    "comparision_df[comparision_df['score_new']>=comparision_df['score_old']]"
   ]
  }
 ],
 "metadata": {
  "kernelspec": {
   "display_name": "eval",
   "language": "python",
   "name": "python3"
  },
  "language_info": {
   "codemirror_mode": {
    "name": "ipython",
    "version": 3
   },
   "file_extension": ".py",
   "mimetype": "text/x-python",
   "name": "python",
   "nbconvert_exporter": "python",
   "pygments_lexer": "ipython3",
   "version": "3.12.3"
  }
 },
 "nbformat": 4,
 "nbformat_minor": 2
}
